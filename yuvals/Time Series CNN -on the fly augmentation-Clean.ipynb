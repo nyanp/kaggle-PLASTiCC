{
 "cells": [
  {
   "cell_type": "markdown",
   "metadata": {},
   "source": [
    "# Time Series CNN - on the fly augmentation"
   ]
  },
  {
   "cell_type": "code",
   "execution_count": null,
   "metadata": {},
   "outputs": [],
   "source": []
  },
  {
   "cell_type": "code",
   "execution_count": 1,
   "metadata": {
    "scrolled": true
   },
   "outputs": [
    {
     "name": "stderr",
     "output_type": "stream",
     "text": [
      "C:\\Users\\kiner\\Anaconda3\\envs\\yuvals\\lib\\site-packages\\h5py\\__init__.py:36: FutureWarning: Conversion of the second argument of issubdtype from `float` to `np.floating` is deprecated. In future, it will be treated as `np.float64 == np.dtype(float).type`.\n",
      "  from ._conv import register_converters as _register_converters\n",
      "Using TensorFlow backend.\n"
     ]
    }
   ],
   "source": [
    "import os \n",
    "import gc\n",
    "import sys\n",
    "import math\n",
    "import numpy as np\n",
    "import matplotlib.pyplot as plt\n",
    "from tqdm import tqdm, tqdm_notebook\n",
    "import pandas as pd \n",
    "import time\n",
    "import pdb\n",
    "import seaborn as sns\n",
    "from tqdm import tqdm\n",
    "from keras.models import Model\n",
    "from keras import optimizers\n",
    "from keras import layers\n",
    "from keras.layers import Activation,Flatten, Dense,SeparableConv1D, Dropout,Conv1D, GlobalMaxPooling1D,MaxPooling1D,GlobalAveragePooling1D,LeakyReLU,BatchNormalization,Input,ReLU\n",
    "from keras.layers.merge import concatenate\n",
    "from keras.callbacks import LearningRateScheduler\n",
    "import keras\n",
    "from keras.activations import sigmoid, softmax\n",
    "from functions.generators import data_generator,one_hot_encode, create_XY,permute,skew,add_noise,load_process,prepare_process\n",
    "from functions.generators import skew_db,inter_mjd,inter_mjd_det,get_void_timeseries,calculate_inputs\n",
    "import tensorflow as tf\n",
    "from keras_tqdm import TQDMNotebookCallback\n",
    "import pickle\n",
    "from sklearn.ensemble import IsolationForest\n",
    "from keras import regularizers\n",
    "from keras.utils import to_categorical\n",
    "import concurrent.futures\n",
    "from multiprocessing import Process, Queue, current_process, freeze_support\n",
    "#make wider graphs\n",
    "sns.set(rc={'figure.figsize':(12,5)})\n",
    "plt.figure(figsize=(12,5))\n",
    "\n",
    "# the following two lines are for changing imported functions, and not needing to restart kernel to use their updated version\n",
    "%load_ext autoreload\n",
    "%autoreload 2\n",
    "%matplotlib inline\n",
    "\n",
    "from IPython.core.interactiveshell import InteractiveShell\n",
    "InteractiveShell.ast_node_interactivity = \"all\"\n",
    "\n",
    "DATA_DIR = './Data/'\n",
    "External_Dir='D:/DATA/'\n",
    "color_map = {0:'g', 1:'r', 2:'c', 3:'m', 4:'y', 5:'k'}\n",
    "galactic_targets = np.array([6,16,53,65,92])\n",
    "extragalactic_targets = np.array([15,42,52,62,64,67,88,90,95])\n",
    "kw = [1,1,1,1,1,2,1,1,1,2,1,1,1,1]\n",
    "real_targets = np.append(galactic_targets,extragalactic_targets)\n",
    "Targets = np.append(real_targets,99)\n",
    "\n",
    "galactic=np.array([1,0,1,0,0,1,0,0,1,0,0,0,1,0])            \n",
    "ex_galactic = 1-galactic\n",
    "num_samples=128"
   ]
  },
  {
   "cell_type": "code",
   "execution_count": 2,
   "metadata": {},
   "outputs": [
    {
     "data": {
      "text/plain": [
       "array([ 6, 16, 53, 65, 92, 15, 42, 52, 62, 64, 67, 88, 90, 95])"
      ]
     },
     "execution_count": 2,
     "metadata": {},
     "output_type": "execute_result"
    },
    {
     "data": {
      "text/plain": [
       "array([ 6, 16, 53, 65, 92, 15, 42, 52, 62, 64, 67, 88, 90, 95, 99])"
      ]
     },
     "execution_count": 2,
     "metadata": {},
     "output_type": "execute_result"
    }
   ],
   "source": [
    "real_targets\n",
    "Targets\n"
   ]
  },
  {
   "cell_type": "code",
   "execution_count": 3,
   "metadata": {},
   "outputs": [],
   "source": [
    "foldn=4\n",
    "df_timeseries=pd.read_csv(DATA_DIR+'training_set.csv')\n",
    "df_training_meta=[]\n",
    "df_validation_meta=[]\n",
    "for i in range (foldn):\n",
    "    df_training_meta.append(pd.read_csv('{}training_meta{}.csv'.format(DATA_DIR,i)))\n",
    "    df_validation_meta.append(pd.read_csv('{}validation_meta{}.csv'.format(DATA_DIR,i)))\n"
   ]
  },
  {
   "cell_type": "code",
   "execution_count": 4,
   "metadata": {},
   "outputs": [
    {
     "data": {
      "text/html": [
       "<div>\n",
       "<style scoped>\n",
       "    .dataframe tbody tr th:only-of-type {\n",
       "        vertical-align: middle;\n",
       "    }\n",
       "\n",
       "    .dataframe tbody tr th {\n",
       "        vertical-align: top;\n",
       "    }\n",
       "\n",
       "    .dataframe thead th {\n",
       "        text-align: right;\n",
       "    }\n",
       "</style>\n",
       "<table border=\"1\" class=\"dataframe\">\n",
       "  <thead>\n",
       "    <tr style=\"text-align: right;\">\n",
       "      <th></th>\n",
       "      <th>object_id</th>\n",
       "      <th>ra</th>\n",
       "      <th>decl</th>\n",
       "      <th>gal_l</th>\n",
       "      <th>gal_b</th>\n",
       "      <th>ddf</th>\n",
       "      <th>hostgal_specz</th>\n",
       "      <th>hostgal_photoz</th>\n",
       "      <th>hostgal_photoz_err</th>\n",
       "      <th>distmod</th>\n",
       "      <th>mwebv</th>\n",
       "      <th>target</th>\n",
       "      <th>dmjd</th>\n",
       "      <th>ratio</th>\n",
       "      <th>min_flux</th>\n",
       "      <th>max_flux</th>\n",
       "      <th>std_flux</th>\n",
       "    </tr>\n",
       "  </thead>\n",
       "  <tbody>\n",
       "    <tr>\n",
       "      <th>0</th>\n",
       "      <td>46593866</td>\n",
       "      <td>222.233612</td>\n",
       "      <td>-44.201530</td>\n",
       "      <td>324.158369</td>\n",
       "      <td>13.774020</td>\n",
       "      <td>0</td>\n",
       "      <td>0.0</td>\n",
       "      <td>0.0</td>\n",
       "      <td>0.0</td>\n",
       "      <td>NaN</td>\n",
       "      <td>0.182</td>\n",
       "      <td>6</td>\n",
       "      <td>0.903666</td>\n",
       "      <td>0.116667</td>\n",
       "      <td>-0.047212</td>\n",
       "      <td>2.812107</td>\n",
       "      <td>0.386297</td>\n",
       "    </tr>\n",
       "    <tr>\n",
       "      <th>1</th>\n",
       "      <td>11912866</td>\n",
       "      <td>110.917969</td>\n",
       "      <td>-29.656013</td>\n",
       "      <td>242.888831</td>\n",
       "      <td>-6.730379</td>\n",
       "      <td>0</td>\n",
       "      <td>0.0</td>\n",
       "      <td>0.0</td>\n",
       "      <td>0.0</td>\n",
       "      <td>NaN</td>\n",
       "      <td>0.230</td>\n",
       "      <td>6</td>\n",
       "      <td>1.091827</td>\n",
       "      <td>0.204082</td>\n",
       "      <td>-0.274050</td>\n",
       "      <td>32.719658</td>\n",
       "      <td>5.695268</td>\n",
       "    </tr>\n",
       "    <tr>\n",
       "      <th>2</th>\n",
       "      <td>42606035</td>\n",
       "      <td>99.667969</td>\n",
       "      <td>-9.594068</td>\n",
       "      <td>220.070675</td>\n",
       "      <td>-7.172270</td>\n",
       "      <td>0</td>\n",
       "      <td>0.0</td>\n",
       "      <td>0.0</td>\n",
       "      <td>0.0</td>\n",
       "      <td>NaN</td>\n",
       "      <td>0.526</td>\n",
       "      <td>6</td>\n",
       "      <td>1.084075</td>\n",
       "      <td>0.148438</td>\n",
       "      <td>-0.126974</td>\n",
       "      <td>4.221294</td>\n",
       "      <td>0.648191</td>\n",
       "    </tr>\n",
       "    <tr>\n",
       "      <th>3</th>\n",
       "      <td>23068227</td>\n",
       "      <td>124.453125</td>\n",
       "      <td>-54.340912</td>\n",
       "      <td>269.496179</td>\n",
       "      <td>-10.343365</td>\n",
       "      <td>0</td>\n",
       "      <td>0.0</td>\n",
       "      <td>0.0</td>\n",
       "      <td>0.0</td>\n",
       "      <td>NaN</td>\n",
       "      <td>0.280</td>\n",
       "      <td>6</td>\n",
       "      <td>1.090824</td>\n",
       "      <td>0.905109</td>\n",
       "      <td>-2.394836</td>\n",
       "      <td>-0.062959</td>\n",
       "      <td>0.742879</td>\n",
       "    </tr>\n",
       "    <tr>\n",
       "      <th>4</th>\n",
       "      <td>39511222</td>\n",
       "      <td>6.780822</td>\n",
       "      <td>-49.117878</td>\n",
       "      <td>313.372827</td>\n",
       "      <td>-67.514527</td>\n",
       "      <td>0</td>\n",
       "      <td>0.0</td>\n",
       "      <td>0.0</td>\n",
       "      <td>0.0</td>\n",
       "      <td>NaN</td>\n",
       "      <td>0.011</td>\n",
       "      <td>6</td>\n",
       "      <td>0.900735</td>\n",
       "      <td>0.105263</td>\n",
       "      <td>-0.066408</td>\n",
       "      <td>0.257408</td>\n",
       "      <td>0.048452</td>\n",
       "    </tr>\n",
       "  </tbody>\n",
       "</table>\n",
       "</div>"
      ],
      "text/plain": [
       "   object_id          ra       decl       gal_l      gal_b  ddf  \\\n",
       "0   46593866  222.233612 -44.201530  324.158369  13.774020    0   \n",
       "1   11912866  110.917969 -29.656013  242.888831  -6.730379    0   \n",
       "2   42606035   99.667969  -9.594068  220.070675  -7.172270    0   \n",
       "3   23068227  124.453125 -54.340912  269.496179 -10.343365    0   \n",
       "4   39511222    6.780822 -49.117878  313.372827 -67.514527    0   \n",
       "\n",
       "   hostgal_specz  hostgal_photoz  hostgal_photoz_err  distmod  mwebv  target  \\\n",
       "0            0.0             0.0                 0.0      NaN  0.182       6   \n",
       "1            0.0             0.0                 0.0      NaN  0.230       6   \n",
       "2            0.0             0.0                 0.0      NaN  0.526       6   \n",
       "3            0.0             0.0                 0.0      NaN  0.280       6   \n",
       "4            0.0             0.0                 0.0      NaN  0.011       6   \n",
       "\n",
       "       dmjd     ratio  min_flux   max_flux  std_flux  \n",
       "0  0.903666  0.116667 -0.047212   2.812107  0.386297  \n",
       "1  1.091827  0.204082 -0.274050  32.719658  5.695268  \n",
       "2  1.084075  0.148438 -0.126974   4.221294  0.648191  \n",
       "3  1.090824  0.905109 -2.394836  -0.062959  0.742879  \n",
       "4  0.900735  0.105263 -0.066408   0.257408  0.048452  "
      ]
     },
     "execution_count": 4,
     "metadata": {},
     "output_type": "execute_result"
    }
   ],
   "source": [
    "df_training_meta[0].head()"
   ]
  },
  {
   "cell_type": "code",
   "execution_count": 5,
   "metadata": {},
   "outputs": [],
   "source": [
    "training_meta=pd.read_csv(DATA_DIR+'training_set_metadata.csv')"
   ]
  },
  {
   "cell_type": "code",
   "execution_count": 6,
   "metadata": {},
   "outputs": [
    {
     "name": "stderr",
     "output_type": "stream",
     "text": [
      "C:\\Users\\kiner\\Anaconda3\\envs\\yuvals\\lib\\site-packages\\numpy\\core\\_methods.py:32: RuntimeWarning: invalid value encountered in reduce\n",
      "  return umr_sum(a, axis, dtype, out, keepdims)\n",
      "C:\\Users\\kiner\\Anaconda3\\envs\\yuvals\\lib\\site-packages\\ipykernel_launcher.py:7: RuntimeWarning: overflow encountered in subtract\n",
      "  import sys\n",
      "C:\\Users\\kiner\\Anaconda3\\envs\\yuvals\\lib\\site-packages\\numpy\\lib\\nanfunctions.py:1315: RuntimeWarning: invalid value encountered in subtract\n",
      "  np.subtract(arr, avg, out=arr, casting='unsafe')\n",
      "C:\\Users\\kiner\\Anaconda3\\envs\\yuvals\\lib\\site-packages\\numpy\\lib\\nanfunctions.py:1320: RuntimeWarning: overflow encountered in multiply\n",
      "  sqr = np.multiply(arr, arr, out=arr)\n"
     ]
    }
   ],
   "source": [
    "df_feature_rank=pd.read_csv('D:\\DATA\\mamas\\mamas_feat_rank.csv').sort_values('rank',ascending=False)\n",
    "mamas_feat=np.load('D:\\DATA\\mamas\\mamas_feat_v1_train.npy')\n",
    "\n",
    "#stds=np.nanstd(mamas_feat,axis=0)\n",
    "means=np.nanmean(mamas_feat,axis=0)\n",
    "\n",
    "maxs=np.nan_to_num(mamas_feat).max(axis=0)-np.nan_to_num(mamas_feat).min(axis=0)\n",
    "\n",
    "mamas_feat_norm=np.add(np.clip(np.nan_to_num(mamas_feat),-maxs,maxs),-means)\n",
    "\n",
    "stds=np.nanstd(mamas_feat,axis=0)\n",
    "\n",
    "mamas_feat_norm=np.divide(mamas_feat_norm,stds)"
   ]
  },
  {
   "cell_type": "code",
   "execution_count": 7,
   "metadata": {},
   "outputs": [],
   "source": [
    "df_mamas_features=pd.DataFrame(index=training_meta.object_id,data=mamas_feat_norm)"
   ]
  },
  {
   "cell_type": "code",
   "execution_count": 8,
   "metadata": {},
   "outputs": [],
   "source": [
    "df_training_meta_mamas=[]\n",
    "df_validation_meta_mamas=[]\n",
    "for i in range (foldn):\n",
    "    df_training_meta_mamas.append(df_mamas_features[df_mamas_features.index.isin(df_training_meta[i].object_id.tolist())])\n",
    "    df_validation_meta_mamas.append(df_mamas_features[df_mamas_features.index.isin(df_validation_meta[i].object_id.tolist() )])\n"
   ]
  },
  {
   "cell_type": "code",
   "execution_count": 9,
   "metadata": {},
   "outputs": [],
   "source": [
    "df_feature_rank['mean']=means\n",
    "df_feature_rank['max']=maxs\n",
    "df_feature_rank['std']=stds\n"
   ]
  },
  {
   "cell_type": "code",
   "execution_count": 10,
   "metadata": {},
   "outputs": [
    {
     "data": {
      "text/html": [
       "<div>\n",
       "<style scoped>\n",
       "    .dataframe tbody tr th:only-of-type {\n",
       "        vertical-align: middle;\n",
       "    }\n",
       "\n",
       "    .dataframe tbody tr th {\n",
       "        vertical-align: top;\n",
       "    }\n",
       "\n",
       "    .dataframe thead th {\n",
       "        text-align: right;\n",
       "    }\n",
       "</style>\n",
       "<table border=\"1\" class=\"dataframe\">\n",
       "  <thead>\n",
       "    <tr style=\"text-align: right;\">\n",
       "      <th></th>\n",
       "      <th>feature_name</th>\n",
       "      <th>rank</th>\n",
       "      <th>place</th>\n",
       "      <th>mean</th>\n",
       "      <th>max</th>\n",
       "      <th>std</th>\n",
       "    </tr>\n",
       "  </thead>\n",
       "  <tbody>\n",
       "    <tr>\n",
       "      <th>0</th>\n",
       "      <td>diff_mjd_max_detected_over_p_sum</td>\n",
       "      <td>10.541500</td>\n",
       "      <td>0</td>\n",
       "      <td>351.008545</td>\n",
       "      <td>4208.961426</td>\n",
       "      <td>552.621094</td>\n",
       "    </tr>\n",
       "    <tr>\n",
       "      <th>1</th>\n",
       "      <td>dist_squared_shifted_flux_max_passband_0_detec...</td>\n",
       "      <td>9.330020</td>\n",
       "      <td>1</td>\n",
       "      <td>0.160670</td>\n",
       "      <td>1.000000</td>\n",
       "      <td>0.144738</td>\n",
       "    </tr>\n",
       "    <tr>\n",
       "      <th>2</th>\n",
       "      <td>abs_curve_angle_max_detected_over_p_sum</td>\n",
       "      <td>7.478503</td>\n",
       "      <td>2</td>\n",
       "      <td>2.895284</td>\n",
       "      <td>9.402072</td>\n",
       "      <td>2.603434</td>\n",
       "    </tr>\n",
       "    <tr>\n",
       "      <th>3</th>\n",
       "      <td>flux_3_sigma_max_passband_0_detected_normed</td>\n",
       "      <td>7.294360</td>\n",
       "      <td>3</td>\n",
       "      <td>0.173302</td>\n",
       "      <td>23.940300</td>\n",
       "      <td>0.465190</td>\n",
       "    </tr>\n",
       "    <tr>\n",
       "      <th>4</th>\n",
       "      <td>diff_mjd_mean_detected_over_p_sum</td>\n",
       "      <td>5.956270</td>\n",
       "      <td>4</td>\n",
       "      <td>152.100128</td>\n",
       "      <td>3443.314697</td>\n",
       "      <td>260.891815</td>\n",
       "    </tr>\n",
       "  </tbody>\n",
       "</table>\n",
       "</div>"
      ],
      "text/plain": [
       "                                        feature_name       rank  place  \\\n",
       "0                   diff_mjd_max_detected_over_p_sum  10.541500      0   \n",
       "1  dist_squared_shifted_flux_max_passband_0_detec...   9.330020      1   \n",
       "2            abs_curve_angle_max_detected_over_p_sum   7.478503      2   \n",
       "3        flux_3_sigma_max_passband_0_detected_normed   7.294360      3   \n",
       "4                  diff_mjd_mean_detected_over_p_sum   5.956270      4   \n",
       "\n",
       "         mean          max         std  \n",
       "0  351.008545  4208.961426  552.621094  \n",
       "1    0.160670     1.000000    0.144738  \n",
       "2    2.895284     9.402072    2.603434  \n",
       "3    0.173302    23.940300    0.465190  \n",
       "4  152.100128  3443.314697  260.891815  "
      ]
     },
     "execution_count": 10,
     "metadata": {},
     "output_type": "execute_result"
    }
   ],
   "source": [
    "df_feature_rank.head()"
   ]
  },
  {
   "cell_type": "code",
   "execution_count": 11,
   "metadata": {},
   "outputs": [],
   "source": [
    "df_feature_rank.to_csv('feature_rank.csv'.format(DATA_DIR),index=False)"
   ]
  },
  {
   "cell_type": "code",
   "execution_count": 12,
   "metadata": {},
   "outputs": [],
   "source": [
    "for i in range(4):\n",
    "    df_training_meta[i]['order']=range(df_training_meta[i].shape[0])\n",
    "    df_training_meta_mamas[i]=df_training_meta_mamas[i].assign(order=df_training_meta[i].sort_values('object_id')['order'].values)\n",
    "    df_training_meta_mamas[i]=df_training_meta_mamas[i].sort_values('order').fillna(0)\n",
    "    df_validation_meta[i]['order']=range(df_validation_meta[i].shape[0])\n",
    "    df_validation_meta_mamas[i]=df_validation_meta_mamas[i].assign(order=df_validation_meta[i].sort_values('object_id')['order'].values)\n",
    "    df_validation_meta_mamas[i]=df_validation_meta_mamas[i].sort_values('order').fillna(0)"
   ]
  },
  {
   "cell_type": "code",
   "execution_count": 13,
   "metadata": {},
   "outputs": [],
   "source": [
    "tar_dict=dict(zip(real_targets,range(len(real_targets))))\n",
    "ty=to_categorical(training_meta.target.map(tar_dict))"
   ]
  },
  {
   "cell_type": "code",
   "execution_count": 14,
   "metadata": {},
   "outputs": [
    {
     "data": {
      "text/plain": [
       "array([0.01924057, 0.117737  , 0.00382263, 0.125     , 0.03045362,\n",
       "       0.0630734 , 0.15201326, 0.02331804, 0.06167176, 0.01299694,\n",
       "       0.02650357, 0.04714577, 0.29472476, 0.02229868], dtype=float32)"
      ]
     },
     "execution_count": 14,
     "metadata": {},
     "output_type": "execute_result"
    },
    {
     "data": {
      "text/plain": [
       "array([0.02000132, 0.12239221, 0.00397377, 0.12994238, 0.03165773,\n",
       "       0.03278363, 0.15802372, 0.02424002, 0.06411021, 0.00675541,\n",
       "       0.02755149, 0.04900987, 0.3063779 , 0.02318034])"
      ]
     },
     "execution_count": 14,
     "metadata": {},
     "output_type": "execute_result"
    }
   ],
   "source": [
    "wtable=ty.sum(axis=0)/ty.shape[0]\n",
    "wtable\n",
    "wtable=wtable/kw\n",
    "wtable=wtable/wtable.sum()\n",
    "wtable\n"
   ]
  },
  {
   "cell_type": "code",
   "execution_count": 15,
   "metadata": {},
   "outputs": [],
   "source": [
    "def mywloss(y_true,y_pred):\n",
    "    \n",
    "    yc=tf.clip_by_value(y_pred,1e-15,1-1e-15)\n",
    "    loss=-(tf.reduce_mean(tf.reduce_mean(y_true*tf.log(yc),axis=0)/wtable))\n",
    "    return loss"
   ]
  },
  {
   "cell_type": "code",
   "execution_count": 16,
   "metadata": {},
   "outputs": [],
   "source": [
    "def score(y_pred,y_true):\n",
    "    y=np.clip(y_pred,1e-3,1)\n",
    "    for i in range(y.shape[0]):\n",
    "        y[i,...]=y[i,...]/y[i,...].sum()\n",
    "    return -(np.mean(np.mean(y_true*np.log(y),axis=0)/wtable))"
   ]
  },
  {
   "cell_type": "code",
   "execution_count": 17,
   "metadata": {},
   "outputs": [],
   "source": [
    "from keras import backend as K\n",
    "from keras.engine.topology import Layer\n",
    "\n",
    "class MySwitch(Layer):\n",
    "\n",
    "    def __init__(self ,split,**kwargs):\n",
    "        self.split=split\n",
    "        super(MySwitch, self).__init__(**kwargs)\n",
    "\n",
    "    def build(self, input_shape):\n",
    "        assert isinstance(input_shape, list)\n",
    "        assert self.split<=input_shape[1][-1]\n",
    "        self.nsplit=input_shape[1][-1]\n",
    "        # Create a trainable weight variable for this layer.\n",
    "        super(MySwitch, self).build(input_shape)  # Be sure to call this at the end\n",
    "\n",
    "    def call(self, x):\n",
    "        assert isinstance(x, list)\n",
    "        x0=tf.equal(x[0],tf.zeros_like(x[0]))\n",
    "        x1=tf.logical_not(x0)\n",
    "        xt0=tf.tile(x0,[1,self.split])\n",
    "        xt1=tf.tile(x1,[1,self.nsplit-self.split])\n",
    "        xf=tf.concat([xt0,xt1],axis=-1)\n",
    "        return tf.where(xf,x[1],-1e4*tf.ones_like(x[1]))\n",
    "\n",
    "    def compute_output_shape(self, input_shape):\n",
    "        assert isinstance(input_shape, list)\n",
    "        shape_a, shape_b = input_shape\n",
    "        return (shape_b[0],shape_b[1])\n"
   ]
  },
  {
   "cell_type": "code",
   "execution_count": 18,
   "metadata": {
    "scrolled": true
   },
   "outputs": [
    {
     "name": "stdout",
     "output_type": "stream",
     "text": [
      "__________________________________________________________________________________________________\n",
      "Layer (type)                    Output Shape         Param #     Connected to                     \n",
      "==================================================================================================\n",
      "input_timeseries (InputLayer)   (None, 128, 6)       0                                            \n",
      "__________________________________________________________________________________________________\n",
      "input_timeseries0 (InputLayer)  (None, 128, 6)       0                                            \n",
      "__________________________________________________________________________________________________\n",
      "concatenate_1 (Concatenate)     (None, 128, 12)      0           input_timeseries[0][0]           \n",
      "                                                                 input_timeseries0[0][0]          \n",
      "__________________________________________________________________________________________________\n",
      "Conv1 (Conv1D)                  (None, 128, 256)     24832       concatenate_1[0][0]              \n",
      "__________________________________________________________________________________________________\n",
      "batch_normalization_1 (BatchNor (None, 128, 256)     1024        Conv1[0][0]                      \n",
      "__________________________________________________________________________________________________\n",
      "leaky_re_lu_1 (LeakyReLU)       (None, 128, 256)     0           batch_normalization_1[0][0]      \n",
      "__________________________________________________________________________________________________\n",
      "dropout_1 (Dropout)             (None, 128, 256)     0           leaky_re_lu_1[0][0]              \n",
      "__________________________________________________________________________________________________\n",
      "Conv2 (Conv1D)                  (None, 128, 256)     327936      dropout_1[0][0]                  \n",
      "__________________________________________________________________________________________________\n",
      "batch_normalization_2 (BatchNor (None, 128, 256)     1024        Conv2[0][0]                      \n",
      "__________________________________________________________________________________________________\n",
      "leaky_re_lu_2 (LeakyReLU)       (None, 128, 256)     0           batch_normalization_2[0][0]      \n",
      "__________________________________________________________________________________________________\n",
      "dropout_2 (Dropout)             (None, 128, 256)     0           leaky_re_lu_2[0][0]              \n",
      "__________________________________________________________________________________________________\n",
      "Conv5 (Conv1D)                  (None, 128, 256)     196864      dropout_2[0][0]                  \n",
      "__________________________________________________________________________________________________\n",
      "batch_normalization_3 (BatchNor (None, 128, 256)     1024        Conv5[0][0]                      \n",
      "__________________________________________________________________________________________________\n",
      "input_meta (InputLayer)         (None, 4)            0                                            \n",
      "__________________________________________________________________________________________________\n",
      "leaky_re_lu_3 (LeakyReLU)       (None, 128, 256)     0           batch_normalization_3[0][0]      \n",
      "__________________________________________________________________________________________________\n",
      "dense0 (Dense)                  (None, 16)           80          input_meta[0][0]                 \n",
      "__________________________________________________________________________________________________\n",
      "global_max_pooling1d_1 (GlobalM (None, 256)          0           leaky_re_lu_3[0][0]              \n",
      "__________________________________________________________________________________________________\n",
      "dense1 (Dense)                  (None, 32)           544         dense0[0][0]                     \n",
      "__________________________________________________________________________________________________\n",
      "concat (Concatenate)            (None, 288)          0           global_max_pooling1d_1[0][0]     \n",
      "                                                                 dense1[0][0]                     \n",
      "__________________________________________________________________________________________________\n",
      "features (Dense)                (None, 256)          73984       concat[0][0]                     \n",
      "__________________________________________________________________________________________________\n",
      "input_gal (InputLayer)          (None, 1)            0                                            \n",
      "__________________________________________________________________________________________________\n",
      "bout (Dense)                    (None, 14)           3598        features[0][0]                   \n",
      "__________________________________________________________________________________________________\n",
      "my_switch_1 (MySwitch)          (None, 14)           0           input_gal[0][0]                  \n",
      "                                                                 bout[0][0]                       \n",
      "__________________________________________________________________________________________________\n",
      "out (Activation)                (None, 14)           0           my_switch_1[0][0]                \n",
      "==================================================================================================\n",
      "Total params: 630,910\n",
      "Trainable params: 629,374\n",
      "Non-trainable params: 1,536\n",
      "__________________________________________________________________________________________________\n"
     ]
    }
   ],
   "source": [
    "def build_model14():\n",
    "    input_timeseries = Input(shape=(num_samples, 6,),name='input_timeseries')\n",
    "    input_timeseries0 = Input(shape=(num_samples, 6,),name='input_timeseries0')\n",
    "    input_meta = Input(shape=(4,),name='input_meta')\n",
    "    input_gal = Input(shape=(1,),name='input_gal')\n",
    "    _series=concatenate([input_timeseries,input_timeseries0])\n",
    "    x = Conv1D(256,8,padding='same',name='Conv1')(_series)\n",
    "    x = BatchNormalization()(x)\n",
    "    x = LeakyReLU(alpha=0.1)(x)\n",
    "    x = Dropout(0.2)(x)\n",
    "    x = Conv1D(256,5,padding='same',name='Conv2')(x)\n",
    "    x = BatchNormalization()(x)\n",
    "    x = LeakyReLU(alpha=0.1)(x)\n",
    "    x = Dropout(0.2)(x)\n",
    "    x = Conv1D(256,3,padding='same',name='Conv5')(x)\n",
    "    x = BatchNormalization()(x)\n",
    "    x = LeakyReLU(alpha=0.1)(x)\n",
    "    #x = Dropout(0.2)(x)\n",
    "    x = GlobalMaxPooling1D()(x)\n",
    "    x1 = Dense(16,activation='relu',name='dense0')(input_meta)\n",
    "    x1 = Dense(32,activation='relu',name='dense1')(x1)\n",
    "    xc = concatenate([x,x1],name='concat')\n",
    "    x = Dense(256,activation='relu',name='features')(xc)\n",
    "    x = Dense(real_targets.shape[0],name='bout')(x)\n",
    "    x = MySwitch(galactic_targets.shape[0])([input_gal,x])\n",
    "    out = Activation('softmax',name='out')(x)\n",
    "    model=Model([input_timeseries,input_timeseries0,input_meta,input_gal],out)\n",
    "    return model\n",
    "build_model14().summary()"
   ]
  },
  {
   "cell_type": "code",
   "execution_count": 19,
   "metadata": {
    "scrolled": true
   },
   "outputs": [
    {
     "name": "stdout",
     "output_type": "stream",
     "text": [
      "__________________________________________________________________________________________________\n",
      "Layer (type)                    Output Shape         Param #     Connected to                     \n",
      "==================================================================================================\n",
      "input_timeseries (InputLayer)   (None, 128, 6)       0                                            \n",
      "__________________________________________________________________________________________________\n",
      "input_timeseries0 (InputLayer)  (None, 128, 6)       0                                            \n",
      "__________________________________________________________________________________________________\n",
      "concatenate_2 (Concatenate)     (None, 128, 12)      0           input_timeseries[0][0]           \n",
      "                                                                 input_timeseries0[0][0]          \n",
      "__________________________________________________________________________________________________\n",
      "Conv1 (Conv1D)                  (None, 128, 256)     24832       concatenate_2[0][0]              \n",
      "__________________________________________________________________________________________________\n",
      "batch_normalization_4 (BatchNor (None, 128, 256)     1024        Conv1[0][0]                      \n",
      "__________________________________________________________________________________________________\n",
      "leaky_re_lu_4 (LeakyReLU)       (None, 128, 256)     0           batch_normalization_4[0][0]      \n",
      "__________________________________________________________________________________________________\n",
      "dropout_3 (Dropout)             (None, 128, 256)     0           leaky_re_lu_4[0][0]              \n",
      "__________________________________________________________________________________________________\n",
      "Conv2 (Conv1D)                  (None, 128, 256)     327936      dropout_3[0][0]                  \n",
      "__________________________________________________________________________________________________\n",
      "batch_normalization_5 (BatchNor (None, 128, 256)     1024        Conv2[0][0]                      \n",
      "__________________________________________________________________________________________________\n",
      "leaky_re_lu_5 (LeakyReLU)       (None, 128, 256)     0           batch_normalization_5[0][0]      \n",
      "__________________________________________________________________________________________________\n",
      "dropout_4 (Dropout)             (None, 128, 256)     0           leaky_re_lu_5[0][0]              \n",
      "__________________________________________________________________________________________________\n",
      "Conv5 (Conv1D)                  (None, 128, 256)     196864      dropout_4[0][0]                  \n",
      "__________________________________________________________________________________________________\n",
      "batch_normalization_6 (BatchNor (None, 128, 256)     1024        Conv5[0][0]                      \n",
      "__________________________________________________________________________________________________\n",
      "input_meta (InputLayer)         (None, 6)            0                                            \n",
      "__________________________________________________________________________________________________\n",
      "leaky_re_lu_6 (LeakyReLU)       (None, 128, 256)     0           batch_normalization_6[0][0]      \n",
      "__________________________________________________________________________________________________\n",
      "dense0 (Dense)                  (None, 16)           112         input_meta[0][0]                 \n",
      "__________________________________________________________________________________________________\n",
      "global_max_pooling1d_2 (GlobalM (None, 256)          0           leaky_re_lu_6[0][0]              \n",
      "__________________________________________________________________________________________________\n",
      "dense1 (Dense)                  (None, 32)           544         dense0[0][0]                     \n",
      "__________________________________________________________________________________________________\n",
      "concat (Concatenate)            (None, 288)          0           global_max_pooling1d_2[0][0]     \n",
      "                                                                 dense1[0][0]                     \n",
      "__________________________________________________________________________________________________\n",
      "features (Dense)                (None, 256)          73984       concat[0][0]                     \n",
      "__________________________________________________________________________________________________\n",
      "input_gal (InputLayer)          (None, 1)            0                                            \n",
      "__________________________________________________________________________________________________\n",
      "bout (Dense)                    (None, 14)           3598        features[0][0]                   \n",
      "__________________________________________________________________________________________________\n",
      "my_switch_2 (MySwitch)          (None, 14)           0           input_gal[0][0]                  \n",
      "                                                                 bout[0][0]                       \n",
      "__________________________________________________________________________________________________\n",
      "out (Activation)                (None, 14)           0           my_switch_2[0][0]                \n",
      "==================================================================================================\n",
      "Total params: 630,942\n",
      "Trainable params: 629,406\n",
      "Non-trainable params: 1,536\n",
      "__________________________________________________________________________________________________\n"
     ]
    }
   ],
   "source": [
    "def build_model15():\n",
    "    input_timeseries = Input(shape=(num_samples, 6,),name='input_timeseries')\n",
    "    input_timeseries0 = Input(shape=(num_samples, 6,),name='input_timeseries0')\n",
    "    input_meta = Input(shape=(6,),name='input_meta')\n",
    "    input_gal = Input(shape=(1,),name='input_gal')\n",
    "    _series=concatenate([input_timeseries,input_timeseries0])\n",
    "    x = Conv1D(256,8,padding='same',name='Conv1')(_series)\n",
    "    x = BatchNormalization()(x)\n",
    "    x = LeakyReLU(alpha=0.1)(x)\n",
    "    x = Dropout(0.2)(x)\n",
    "    x = Conv1D(256,5,padding='same',name='Conv2')(x)\n",
    "    x = BatchNormalization()(x)\n",
    "    x = LeakyReLU(alpha=0.1)(x)\n",
    "    x = Dropout(0.2)(x)\n",
    "    x = Conv1D(256,3,padding='same',name='Conv5')(x)\n",
    "    x = BatchNormalization()(x)\n",
    "    x = LeakyReLU(alpha=0.1)(x)\n",
    "    #x = Dropout(0.2)(x)\n",
    "    x = GlobalMaxPooling1D()(x)\n",
    "    x1 = Dense(16,activation='relu',name='dense0')(input_meta)\n",
    "    x1 = Dense(32,activation='relu',name='dense1')(x1)\n",
    "    xc = concatenate([x,x1],name='concat')\n",
    "    x = Dense(256,activation='relu',name='features')(xc)\n",
    "    x = Dense(real_targets.shape[0],name='bout')(x)\n",
    "    x = MySwitch(galactic_targets.shape[0])([input_gal,x])\n",
    "    out = Activation('softmax',name='out')(x)\n",
    "    model=Model([input_timeseries,input_timeseries0,input_meta,input_gal],out)\n",
    "    return model\n",
    "build_model15().summary()"
   ]
  },
  {
   "cell_type": "code",
   "execution_count": 20,
   "metadata": {
    "scrolled": true
   },
   "outputs": [
    {
     "name": "stdout",
     "output_type": "stream",
     "text": [
      "__________________________________________________________________________________________________\n",
      "Layer (type)                    Output Shape         Param #     Connected to                     \n",
      "==================================================================================================\n",
      "input_timeseries (InputLayer)   (None, 128, 6)       0                                            \n",
      "__________________________________________________________________________________________________\n",
      "input_timeseries0 (InputLayer)  (None, 128, 6)       0                                            \n",
      "__________________________________________________________________________________________________\n",
      "input_timeseriese (InputLayer)  (None, 128, 6)       0                                            \n",
      "__________________________________________________________________________________________________\n",
      "concatenate_3 (Concatenate)     (None, 128, 18)      0           input_timeseries[0][0]           \n",
      "                                                                 input_timeseries0[0][0]          \n",
      "                                                                 input_timeseriese[0][0]          \n",
      "__________________________________________________________________________________________________\n",
      "Conv1 (Conv1D)                  (None, 128, 256)     37120       concatenate_3[0][0]              \n",
      "__________________________________________________________________________________________________\n",
      "batch_normalization_7 (BatchNor (None, 128, 256)     1024        Conv1[0][0]                      \n",
      "__________________________________________________________________________________________________\n",
      "leaky_re_lu_7 (LeakyReLU)       (None, 128, 256)     0           batch_normalization_7[0][0]      \n",
      "__________________________________________________________________________________________________\n",
      "dropout_5 (Dropout)             (None, 128, 256)     0           leaky_re_lu_7[0][0]              \n",
      "__________________________________________________________________________________________________\n",
      "Conv2 (Conv1D)                  (None, 128, 256)     327936      dropout_5[0][0]                  \n",
      "__________________________________________________________________________________________________\n",
      "batch_normalization_8 (BatchNor (None, 128, 256)     1024        Conv2[0][0]                      \n",
      "__________________________________________________________________________________________________\n",
      "leaky_re_lu_8 (LeakyReLU)       (None, 128, 256)     0           batch_normalization_8[0][0]      \n",
      "__________________________________________________________________________________________________\n",
      "dropout_6 (Dropout)             (None, 128, 256)     0           leaky_re_lu_8[0][0]              \n",
      "__________________________________________________________________________________________________\n",
      "Conv5 (Conv1D)                  (None, 128, 256)     196864      dropout_6[0][0]                  \n",
      "__________________________________________________________________________________________________\n",
      "batch_normalization_9 (BatchNor (None, 128, 256)     1024        Conv5[0][0]                      \n",
      "__________________________________________________________________________________________________\n",
      "input_meta (InputLayer)         (None, 6)            0                                            \n",
      "__________________________________________________________________________________________________\n",
      "leaky_re_lu_9 (LeakyReLU)       (None, 128, 256)     0           batch_normalization_9[0][0]      \n",
      "__________________________________________________________________________________________________\n",
      "dense0 (Dense)                  (None, 16)           112         input_meta[0][0]                 \n",
      "__________________________________________________________________________________________________\n",
      "global_max_pooling1d_3 (GlobalM (None, 256)          0           leaky_re_lu_9[0][0]              \n",
      "__________________________________________________________________________________________________\n",
      "dense1 (Dense)                  (None, 32)           544         dense0[0][0]                     \n",
      "__________________________________________________________________________________________________\n",
      "concat (Concatenate)            (None, 288)          0           global_max_pooling1d_3[0][0]     \n",
      "                                                                 dense1[0][0]                     \n",
      "__________________________________________________________________________________________________\n",
      "features (Dense)                (None, 256)          73984       concat[0][0]                     \n",
      "__________________________________________________________________________________________________\n",
      "input_gal (InputLayer)          (None, 1)            0                                            \n",
      "__________________________________________________________________________________________________\n",
      "bout (Dense)                    (None, 14)           3598        features[0][0]                   \n",
      "__________________________________________________________________________________________________\n",
      "my_switch_3 (MySwitch)          (None, 14)           0           input_gal[0][0]                  \n",
      "                                                                 bout[0][0]                       \n",
      "__________________________________________________________________________________________________\n",
      "out (Activation)                (None, 14)           0           my_switch_3[0][0]                \n",
      "==================================================================================================\n",
      "Total params: 643,230\n",
      "Trainable params: 641,694\n",
      "Non-trainable params: 1,536\n",
      "__________________________________________________________________________________________________\n"
     ]
    }
   ],
   "source": [
    "def build_model16():\n",
    "    input_timeseries = Input(shape=(num_samples, 6,),name='input_timeseries')\n",
    "    input_timeseries0 = Input(shape=(num_samples, 6,),name='input_timeseries0')\n",
    "    input_timeseriese = Input(shape=(num_samples, 6,),name='input_timeseriese')\n",
    "    input_meta = Input(shape=(6,),name='input_meta')\n",
    "    input_gal = Input(shape=(1,),name='input_gal')\n",
    "    _series=concatenate([input_timeseries,input_timeseries0,input_timeseriese])\n",
    "    x = Conv1D(256,8,padding='same',name='Conv1')(_series)\n",
    "    x = BatchNormalization()(x)\n",
    "    x = LeakyReLU(alpha=0.1)(x)\n",
    "    x = Dropout(0.2)(x)\n",
    "    x = Conv1D(256,5,padding='same',name='Conv2')(x)\n",
    "    x = BatchNormalization()(x)\n",
    "    x = LeakyReLU(alpha=0.1)(x)\n",
    "    x = Dropout(0.2)(x)\n",
    "    x = Conv1D(256,3,padding='same',name='Conv5')(x)\n",
    "    x = BatchNormalization()(x)\n",
    "    x = LeakyReLU(alpha=0.1)(x)\n",
    "    #x = Dropout(0.3)(x)\n",
    "    x = GlobalMaxPooling1D()(x)\n",
    "    x1 = Dense(16,activation='relu',name='dense0')(input_meta)\n",
    "    x1 = Dense(32,activation='relu',name='dense1')(x1)\n",
    "    xc = concatenate([x,x1],name='concat')\n",
    "    x = Dense(256,activation='relu',name='features')(xc)\n",
    "    x = Dense(real_targets.shape[0],name='bout')(x)\n",
    "    x = MySwitch(galactic_targets.shape[0])([input_gal,x])\n",
    "    out = Activation('softmax',name='out')(x)\n",
    "    model=Model([input_timeseries,input_timeseries0,input_timeseriese,input_meta,input_gal],out)\n",
    "    return model\n",
    "build_model16().summary()"
   ]
  },
  {
   "cell_type": "code",
   "execution_count": 21,
   "metadata": {
    "scrolled": true
   },
   "outputs": [
    {
     "name": "stdout",
     "output_type": "stream",
     "text": [
      "__________________________________________________________________________________________________\n",
      "Layer (type)                    Output Shape         Param #     Connected to                     \n",
      "==================================================================================================\n",
      "input_timeseries (InputLayer)   (None, 128, 6)       0                                            \n",
      "__________________________________________________________________________________________________\n",
      "input_timeseries0 (InputLayer)  (None, 128, 6)       0                                            \n",
      "__________________________________________________________________________________________________\n",
      "input_timeseriese (InputLayer)  (None, 128, 6)       0                                            \n",
      "__________________________________________________________________________________________________\n",
      "input_timeseriesv (InputLayer)  (None, 128, 6)       0                                            \n",
      "__________________________________________________________________________________________________\n",
      "concatenate_4 (Concatenate)     (None, 128, 24)      0           input_timeseries[0][0]           \n",
      "                                                                 input_timeseries0[0][0]          \n",
      "                                                                 input_timeseriese[0][0]          \n",
      "                                                                 input_timeseriesv[0][0]          \n",
      "__________________________________________________________________________________________________\n",
      "Conv1 (Conv1D)                  (None, 128, 256)     49408       concatenate_4[0][0]              \n",
      "__________________________________________________________________________________________________\n",
      "batch_normalization_10 (BatchNo (None, 128, 256)     1024        Conv1[0][0]                      \n",
      "__________________________________________________________________________________________________\n",
      "leaky_re_lu_10 (LeakyReLU)      (None, 128, 256)     0           batch_normalization_10[0][0]     \n",
      "__________________________________________________________________________________________________\n",
      "dropout_7 (Dropout)             (None, 128, 256)     0           leaky_re_lu_10[0][0]             \n",
      "__________________________________________________________________________________________________\n",
      "Conv2 (Conv1D)                  (None, 128, 256)     327936      dropout_7[0][0]                  \n",
      "__________________________________________________________________________________________________\n",
      "batch_normalization_11 (BatchNo (None, 128, 256)     1024        Conv2[0][0]                      \n",
      "__________________________________________________________________________________________________\n",
      "leaky_re_lu_11 (LeakyReLU)      (None, 128, 256)     0           batch_normalization_11[0][0]     \n",
      "__________________________________________________________________________________________________\n",
      "dropout_8 (Dropout)             (None, 128, 256)     0           leaky_re_lu_11[0][0]             \n",
      "__________________________________________________________________________________________________\n",
      "Conv5 (Conv1D)                  (None, 128, 256)     196864      dropout_8[0][0]                  \n",
      "__________________________________________________________________________________________________\n",
      "batch_normalization_12 (BatchNo (None, 128, 256)     1024        Conv5[0][0]                      \n",
      "__________________________________________________________________________________________________\n",
      "input_meta (InputLayer)         (None, 6)            0                                            \n",
      "__________________________________________________________________________________________________\n",
      "leaky_re_lu_12 (LeakyReLU)      (None, 128, 256)     0           batch_normalization_12[0][0]     \n",
      "__________________________________________________________________________________________________\n",
      "dense0 (Dense)                  (None, 16)           112         input_meta[0][0]                 \n",
      "__________________________________________________________________________________________________\n",
      "global_max_pooling1d_4 (GlobalM (None, 256)          0           leaky_re_lu_12[0][0]             \n",
      "__________________________________________________________________________________________________\n",
      "dense1 (Dense)                  (None, 32)           544         dense0[0][0]                     \n",
      "__________________________________________________________________________________________________\n",
      "concat (Concatenate)            (None, 288)          0           global_max_pooling1d_4[0][0]     \n",
      "                                                                 dense1[0][0]                     \n",
      "__________________________________________________________________________________________________\n",
      "features (Dense)                (None, 256)          73984       concat[0][0]                     \n",
      "__________________________________________________________________________________________________\n",
      "input_gal (InputLayer)          (None, 1)            0                                            \n",
      "__________________________________________________________________________________________________\n",
      "bout (Dense)                    (None, 14)           3598        features[0][0]                   \n",
      "__________________________________________________________________________________________________\n",
      "my_switch_4 (MySwitch)          (None, 14)           0           input_gal[0][0]                  \n",
      "                                                                 bout[0][0]                       \n",
      "__________________________________________________________________________________________________\n",
      "out (Activation)                (None, 14)           0           my_switch_4[0][0]                \n",
      "==================================================================================================\n",
      "Total params: 655,518\n",
      "Trainable params: 653,982\n",
      "Non-trainable params: 1,536\n",
      "__________________________________________________________________________________________________\n"
     ]
    }
   ],
   "source": [
    "def build_model17():\n",
    "    input_timeseries = Input(shape=(num_samples, 6,),name='input_timeseries')\n",
    "    input_timeseries0 = Input(shape=(num_samples, 6,),name='input_timeseries0')\n",
    "    input_timeseriese = Input(shape=(num_samples, 6,),name='input_timeseriese')\n",
    "    input_timeseriesv = Input(shape=(num_samples, 6,),name='input_timeseriesv')\n",
    "    input_meta = Input(shape=(6,),name='input_meta')\n",
    "    input_gal = Input(shape=(1,),name='input_gal')\n",
    "    _series=concatenate([input_timeseries,input_timeseries0,input_timeseriese,input_timeseriesv])\n",
    "    x = Conv1D(256,8,padding='same',name='Conv1')(_series)\n",
    "    x = BatchNormalization()(x)\n",
    "    x = LeakyReLU(alpha=0.1)(x)\n",
    "    x = Dropout(0.2)(x)\n",
    "    x = Conv1D(256,5,padding='same',name='Conv2')(x)\n",
    "    x = BatchNormalization()(x)\n",
    "    x = LeakyReLU(alpha=0.1)(x)\n",
    "    x = Dropout(0.2)(x)\n",
    "    x = Conv1D(256,3,padding='same',name='Conv5')(x)\n",
    "    x = BatchNormalization()(x)\n",
    "    x = LeakyReLU(alpha=0.1)(x)\n",
    "    #x = Dropout(0.3)(x)\n",
    "    x = GlobalMaxPooling1D()(x)\n",
    "    x1 = Dense(16,activation='relu',name='dense0')(input_meta)\n",
    "    x1 = Dense(32,activation='relu',name='dense1')(x1)\n",
    "    xc = concatenate([x,x1],name='concat')\n",
    "    x = Dense(256,activation='relu',name='features')(xc)\n",
    "    x = Dense(real_targets.shape[0],name='bout')(x)\n",
    "    x = MySwitch(galactic_targets.shape[0])([input_gal,x])\n",
    "    out = Activation('softmax',name='out')(x)\n",
    "    model=Model([input_timeseries,input_timeseries0,input_timeseriese,input_timeseriesv,input_meta,input_gal],out)\n",
    "    return model\n",
    "build_model17().summary()"
   ]
  },
  {
   "cell_type": "code",
   "execution_count": 22,
   "metadata": {},
   "outputs": [],
   "source": [
    "def build_top(ntop,convout,n_first=64):\n",
    "    input_meta = Input(shape=(ntop,),name='input_meta')\n",
    "    input_gal = Input(shape=(1,),name='input_gal')\n",
    "    x = BatchNormalization()(convout)\n",
    "    x = LeakyReLU(alpha=0.1)(x)\n",
    "#    x = Dropout(0.3)(x)\n",
    "    x = GlobalMaxPooling1D()(x)\n",
    "    x1 = Dense(n_first,activation='relu',name='dense0')(input_meta)\n",
    "#    x1 = Dropout(0.4)(x1)\n",
    "#    x1 = BatchNormalization()(x1)\n",
    "#    x1 = Dense(64,activation='relu',name='dense1')(x1)\n",
    "    x1 = Dropout(0.2)(x1)  #was 0.2\n",
    "    x1 = BatchNormalization()(x1)\n",
    "    x1 = Dense(64,activation='relu',name='dense2')(x1)\n",
    "#   x1 = Dropout(0.5)(x1)\n",
    "#    x1 = BatchNormalization()(x1)\n",
    "    xc = concatenate([x,x1],name='concat')\n",
    "    x = Dense(256,activation='relu',name='features')(xc)\n",
    "    x = Dense(real_targets.shape[0],name='bout')(x)\n",
    "    x = MySwitch(galactic_targets.shape[0])([input_gal,x])\n",
    "    out = Activation('softmax',name='out')(x)\n",
    "    return [input_meta,input_gal],out\n"
   ]
  },
  {
   "cell_type": "code",
   "execution_count": 23,
   "metadata": {
    "scrolled": true
   },
   "outputs": [
    {
     "name": "stdout",
     "output_type": "stream",
     "text": [
      "__________________________________________________________________________________________________\n",
      "Layer (type)                    Output Shape         Param #     Connected to                     \n",
      "==================================================================================================\n",
      "input_timeseries (InputLayer)   (None, 128, 6)       0                                            \n",
      "__________________________________________________________________________________________________\n",
      "input_timeseries0 (InputLayer)  (None, 128, 6)       0                                            \n",
      "__________________________________________________________________________________________________\n",
      "concatenate_5 (Concatenate)     (None, 128, 12)      0           input_timeseries[0][0]           \n",
      "                                                                 input_timeseries0[0][0]          \n",
      "__________________________________________________________________________________________________\n",
      "Conv1 (Conv1D)                  (None, 128, 256)     24832       concatenate_5[0][0]              \n",
      "__________________________________________________________________________________________________\n",
      "batch_normalization_13 (BatchNo (None, 128, 256)     1024        Conv1[0][0]                      \n",
      "__________________________________________________________________________________________________\n",
      "leaky_re_lu_13 (LeakyReLU)      (None, 128, 256)     0           batch_normalization_13[0][0]     \n",
      "__________________________________________________________________________________________________\n",
      "dropout_9 (Dropout)             (None, 128, 256)     0           leaky_re_lu_13[0][0]             \n",
      "__________________________________________________________________________________________________\n",
      "Conv2 (Conv1D)                  (None, 128, 256)     327936      dropout_9[0][0]                  \n",
      "__________________________________________________________________________________________________\n",
      "batch_normalization_14 (BatchNo (None, 128, 256)     1024        Conv2[0][0]                      \n",
      "__________________________________________________________________________________________________\n",
      "leaky_re_lu_14 (LeakyReLU)      (None, 128, 256)     0           batch_normalization_14[0][0]     \n",
      "__________________________________________________________________________________________________\n",
      "dropout_10 (Dropout)            (None, 128, 256)     0           leaky_re_lu_14[0][0]             \n",
      "__________________________________________________________________________________________________\n",
      "input_meta (InputLayer)         (None, 8)            0                                            \n",
      "__________________________________________________________________________________________________\n",
      "Conv5 (Conv1D)                  (None, 128, 256)     196864      dropout_10[0][0]                 \n",
      "__________________________________________________________________________________________________\n",
      "dense0 (Dense)                  (None, 64)           576         input_meta[0][0]                 \n",
      "__________________________________________________________________________________________________\n",
      "batch_normalization_16 (BatchNo (None, 128, 256)     1024        Conv5[0][0]                      \n",
      "__________________________________________________________________________________________________\n",
      "dropout_11 (Dropout)            (None, 64)           0           dense0[0][0]                     \n",
      "__________________________________________________________________________________________________\n",
      "leaky_re_lu_16 (LeakyReLU)      (None, 128, 256)     0           batch_normalization_16[0][0]     \n",
      "__________________________________________________________________________________________________\n",
      "batch_normalization_17 (BatchNo (None, 64)           256         dropout_11[0][0]                 \n",
      "__________________________________________________________________________________________________\n",
      "global_max_pooling1d_6 (GlobalM (None, 256)          0           leaky_re_lu_16[0][0]             \n",
      "__________________________________________________________________________________________________\n",
      "dense2 (Dense)                  (None, 64)           4160        batch_normalization_17[0][0]     \n",
      "__________________________________________________________________________________________________\n",
      "concat (Concatenate)            (None, 320)          0           global_max_pooling1d_6[0][0]     \n",
      "                                                                 dense2[0][0]                     \n",
      "__________________________________________________________________________________________________\n",
      "features (Dense)                (None, 256)          82176       concat[0][0]                     \n",
      "__________________________________________________________________________________________________\n",
      "input_gal (InputLayer)          (None, 1)            0                                            \n",
      "__________________________________________________________________________________________________\n",
      "bout (Dense)                    (None, 14)           3598        features[0][0]                   \n",
      "__________________________________________________________________________________________________\n",
      "my_switch_6 (MySwitch)          (None, 14)           0           input_gal[0][0]                  \n",
      "                                                                 bout[0][0]                       \n",
      "__________________________________________________________________________________________________\n",
      "out (Activation)                (None, 14)           0           my_switch_6[0][0]                \n",
      "==================================================================================================\n",
      "Total params: 643,470\n",
      "Trainable params: 641,806\n",
      "Non-trainable params: 1,664\n",
      "__________________________________________________________________________________________________\n"
     ]
    }
   ],
   "source": [
    "def model_retop(model,ntop,last_conv_layer_name='Conv5',n_first=64):\n",
    "    convout = model.get_layer(name=last_conv_layer_name).output\n",
    "    inputs=[]\n",
    "    for inp in model.inputs:\n",
    "        if 'timeseries' in inp.name:\n",
    "            inputs.append(inp)\n",
    "    dinputs,out=build_top(ntop,convout,n_first=n_first)\n",
    "    inputs=inputs+dinputs\n",
    "    topmodel=Model(inputs,out)\n",
    "    return topmodel\n",
    "model_retop(build_model14(),8).summary()"
   ]
  },
  {
   "cell_type": "code",
   "execution_count": 24,
   "metadata": {},
   "outputs": [
    {
     "name": "stdout",
     "output_type": "stream",
     "text": [
      "__________________________________________________________________________________________________\n",
      "Layer (type)                    Output Shape         Param #     Connected to                     \n",
      "==================================================================================================\n",
      "input_timeseries (InputLayer)   (None, 128, 6)       0                                            \n",
      "__________________________________________________________________________________________________\n",
      "input_timeseries0 (InputLayer)  (None, 128, 6)       0                                            \n",
      "__________________________________________________________________________________________________\n",
      "concatenate_6 (Concatenate)     (None, 128, 12)      0           input_timeseries[0][0]           \n",
      "                                                                 input_timeseries0[0][0]          \n",
      "__________________________________________________________________________________________________\n",
      "Conv1 (Conv1D)                  (None, 128, 256)     24832       concatenate_6[0][0]              \n",
      "__________________________________________________________________________________________________\n",
      "batch_normalization_18 (BatchNo (None, 128, 256)     1024        Conv1[0][0]                      \n",
      "__________________________________________________________________________________________________\n",
      "leaky_re_lu_17 (LeakyReLU)      (None, 128, 256)     0           batch_normalization_18[0][0]     \n",
      "__________________________________________________________________________________________________\n",
      "dropout_12 (Dropout)            (None, 128, 256)     0           leaky_re_lu_17[0][0]             \n",
      "__________________________________________________________________________________________________\n",
      "Conv2 (Conv1D)                  (None, 128, 256)     327936      dropout_12[0][0]                 \n",
      "__________________________________________________________________________________________________\n",
      "batch_normalization_19 (BatchNo (None, 128, 256)     1024        Conv2[0][0]                      \n",
      "__________________________________________________________________________________________________\n",
      "leaky_re_lu_18 (LeakyReLU)      (None, 128, 256)     0           batch_normalization_19[0][0]     \n",
      "__________________________________________________________________________________________________\n",
      "dropout_13 (Dropout)            (None, 128, 256)     0           leaky_re_lu_18[0][0]             \n",
      "__________________________________________________________________________________________________\n",
      "Conv5 (Conv1D)                  (None, 128, 256)     196864      dropout_13[0][0]                 \n",
      "__________________________________________________________________________________________________\n",
      "batch_normalization_20 (BatchNo (None, 128, 256)     1024        Conv5[0][0]                      \n",
      "__________________________________________________________________________________________________\n",
      "input_meta (InputLayer)         (None, 4)            0                                            \n",
      "__________________________________________________________________________________________________\n",
      "leaky_re_lu_19 (LeakyReLU)      (None, 128, 256)     0           batch_normalization_20[0][0]     \n",
      "__________________________________________________________________________________________________\n",
      "dense0 (Dense)                  (None, 16)           80          input_meta[0][0]                 \n",
      "__________________________________________________________________________________________________\n",
      "global_max_pooling1d_7 (GlobalM (None, 256)          0           leaky_re_lu_19[0][0]             \n",
      "__________________________________________________________________________________________________\n",
      "dense1 (Dense)                  (None, 32)           544         dense0[0][0]                     \n",
      "__________________________________________________________________________________________________\n",
      "concat (Concatenate)            (None, 288)          0           global_max_pooling1d_7[0][0]     \n",
      "                                                                 dense1[0][0]                     \n",
      "__________________________________________________________________________________________________\n",
      "features (Dense)                (None, 256)          73984       concat[0][0]                     \n",
      "__________________________________________________________________________________________________\n",
      "input_gal (InputLayer)          (None, 1)            0                                            \n",
      "__________________________________________________________________________________________________\n",
      "bout (Dense)                    (None, 14)           3598        features[0][0]                   \n",
      "__________________________________________________________________________________________________\n",
      "batch_normalization_21 (BatchNo (None, 128, 256)     1024        Conv5[0][0]                      \n",
      "__________________________________________________________________________________________________\n",
      "my_switch_7 (MySwitch)          (None, 14)           0           input_gal[0][0]                  \n",
      "                                                                 bout[0][0]                       \n",
      "__________________________________________________________________________________________________\n",
      "leaky_re_lu_20 (LeakyReLU)      (None, 128, 256)     0           batch_normalization_21[0][0]     \n",
      "__________________________________________________________________________________________________\n",
      "out (Activation)                (None, 14)           0           my_switch_7[0][0]                \n",
      "__________________________________________________________________________________________________\n",
      "global_max_pooling1d_8 (GlobalM (None, 256)          0           leaky_re_lu_20[0][0]             \n",
      "==================================================================================================\n",
      "Total params: 631,934\n",
      "Trainable params: 629,886\n",
      "Non-trainable params: 2,048\n",
      "__________________________________________________________________________________________________\n"
     ]
    }
   ],
   "source": [
    "def model_tap(model,last_conv_layer_name='Conv5'):\n",
    "    convout = model.get_layer(name=last_conv_layer_name).output\n",
    "    x = BatchNormalization()(convout)\n",
    "    x = LeakyReLU(alpha=0.1)(x)\n",
    "    out2 = GlobalMaxPooling1D()(x)\n",
    "    out=model.get_layer(name='out').output\n",
    "    out1=model.get_layer(name='out').input\n",
    "    return Model(model.inputs,outputs=[out,out1,out2])\n",
    "model_tap(build_model14()).summary()    "
   ]
  },
  {
   "cell_type": "code",
   "execution_count": 25,
   "metadata": {},
   "outputs": [],
   "source": [
    "opt=optimizers.Adam()\n",
    "\n",
    "opt.lr=1e-4"
   ]
  },
  {
   "cell_type": "code",
   "execution_count": 26,
   "metadata": {},
   "outputs": [],
   "source": [
    "meta_cols=['hostgal_photoz','dmjd','std_flux','distmod']\n",
    "col_weights=[1.0,1.0,1.0,1.0]"
   ]
  },
  {
   "cell_type": "code",
   "execution_count": 27,
   "metadata": {},
   "outputs": [],
   "source": [
    "for i in range(4):\n",
    "        df_validation_meta[i]=df_validation_meta[i].sort_values('object_id').reset_index(drop=True).copy()\n",
    "        df_training_meta[i]=df_training_meta[i].sort_values('object_id').reset_index(drop=True).copy()"
   ]
  },
  {
   "cell_type": "code",
   "execution_count": 29,
   "metadata": {
    "scrolled": false
   },
   "outputs": [
    {
     "data": {
      "application/vnd.jupyter.widget-view+json": {
       "model_id": "70c0352b2a8a483ab469aaf5baff32a3",
       "version_major": 2,
       "version_minor": 0
      },
      "text/html": [
       "<p>Failed to display Jupyter Widget of type <code>HBox</code>.</p>\n",
       "<p>\n",
       "  If you're reading this message in the Jupyter Notebook or JupyterLab Notebook, it may mean\n",
       "  that the widgets JavaScript is still loading. If this message persists, it\n",
       "  likely means that the widgets JavaScript library is either not installed or\n",
       "  not enabled. See the <a href=\"https://ipywidgets.readthedocs.io/en/stable/user_install.html\">Jupyter\n",
       "  Widgets Documentation</a> for setup instructions.\n",
       "</p>\n",
       "<p>\n",
       "  If you're reading this message in another frontend (for example, a static\n",
       "  rendering on GitHub or <a href=\"https://nbviewer.jupyter.org/\">NBViewer</a>),\n",
       "  it may mean that your frontend doesn't currently support widgets.\n",
       "</p>\n"
      ],
      "text/plain": [
       "HBox(children=(IntProgress(value=0, description='fold:', max=4), HTML(value='')))"
      ]
     },
     "metadata": {},
     "output_type": "display_data"
    },
    {
     "data": {
      "application/vnd.jupyter.widget-view+json": {
       "model_id": "1da1d7184e5e4be599245e6544a9ded3",
       "version_major": 2,
       "version_minor": 0
      },
      "text/html": [
       "<p>Failed to display Jupyter Widget of type <code>HBox</code>.</p>\n",
       "<p>\n",
       "  If you're reading this message in the Jupyter Notebook or JupyterLab Notebook, it may mean\n",
       "  that the widgets JavaScript is still loading. If this message persists, it\n",
       "  likely means that the widgets JavaScript library is either not installed or\n",
       "  not enabled. See the <a href=\"https://ipywidgets.readthedocs.io/en/stable/user_install.html\">Jupyter\n",
       "  Widgets Documentation</a> for setup instructions.\n",
       "</p>\n",
       "<p>\n",
       "  If you're reading this message in another frontend (for example, a static\n",
       "  rendering on GitHub or <a href=\"https://nbviewer.jupyter.org/\">NBViewer</a>),\n",
       "  it may mean that your frontend doesn't currently support widgets.\n",
       "</p>\n"
      ],
      "text/plain": [
       "HBox(children=(IntProgress(value=0, description='full:', max=4), HTML(value='')))"
      ]
     },
     "metadata": {},
     "output_type": "display_data"
    },
    {
     "data": {
      "application/vnd.jupyter.widget-view+json": {
       "model_id": "498287673e5142b8a29fd16a117d89fe",
       "version_major": 2,
       "version_minor": 0
      },
      "text/html": [
       "<p>Failed to display Jupyter Widget of type <code>HBox</code>.</p>\n",
       "<p>\n",
       "  If you're reading this message in the Jupyter Notebook or JupyterLab Notebook, it may mean\n",
       "  that the widgets JavaScript is still loading. If this message persists, it\n",
       "  likely means that the widgets JavaScript library is either not installed or\n",
       "  not enabled. See the <a href=\"https://ipywidgets.readthedocs.io/en/stable/user_install.html\">Jupyter\n",
       "  Widgets Documentation</a> for setup instructions.\n",
       "</p>\n",
       "<p>\n",
       "  If you're reading this message in another frontend (for example, a static\n",
       "  rendering on GitHub or <a href=\"https://nbviewer.jupyter.org/\">NBViewer</a>),\n",
       "  it may mean that your frontend doesn't currently support widgets.\n",
       "</p>\n"
      ],
      "text/plain": [
       "HBox(children=(IntProgress(value=0, max=42), HTML(value='')))"
      ]
     },
     "metadata": {},
     "output_type": "display_data"
    },
    {
     "data": {
      "application/vnd.jupyter.widget-view+json": {
       "model_id": "99a8df8decd040a58b76b0b32b92a149",
       "version_major": 2,
       "version_minor": 0
      },
      "text/html": [
       "<p>Failed to display Jupyter Widget of type <code>HBox</code>.</p>\n",
       "<p>\n",
       "  If you're reading this message in the Jupyter Notebook or JupyterLab Notebook, it may mean\n",
       "  that the widgets JavaScript is still loading. If this message persists, it\n",
       "  likely means that the widgets JavaScript library is either not installed or\n",
       "  not enabled. See the <a href=\"https://ipywidgets.readthedocs.io/en/stable/user_install.html\">Jupyter\n",
       "  Widgets Documentation</a> for setup instructions.\n",
       "</p>\n",
       "<p>\n",
       "  If you're reading this message in another frontend (for example, a static\n",
       "  rendering on GitHub or <a href=\"https://nbviewer.jupyter.org/\">NBViewer</a>),\n",
       "  it may mean that your frontend doesn't currently support widgets.\n",
       "</p>\n"
      ],
      "text/plain": [
       "HBox(children=(IntProgress(value=0, max=18), HTML(value='')))"
      ]
     },
     "metadata": {},
     "output_type": "display_data"
    },
    {
     "data": {
      "application/vnd.jupyter.widget-view+json": {
       "model_id": "177e84fd4cb2424c942f66142629ea12",
       "version_major": 2,
       "version_minor": 0
      },
      "text/html": [
       "<p>Failed to display Jupyter Widget of type <code>HBox</code>.</p>\n",
       "<p>\n",
       "  If you're reading this message in the Jupyter Notebook or JupyterLab Notebook, it may mean\n",
       "  that the widgets JavaScript is still loading. If this message persists, it\n",
       "  likely means that the widgets JavaScript library is either not installed or\n",
       "  not enabled. See the <a href=\"https://ipywidgets.readthedocs.io/en/stable/user_install.html\">Jupyter\n",
       "  Widgets Documentation</a> for setup instructions.\n",
       "</p>\n",
       "<p>\n",
       "  If you're reading this message in another frontend (for example, a static\n",
       "  rendering on GitHub or <a href=\"https://nbviewer.jupyter.org/\">NBViewer</a>),\n",
       "  it may mean that your frontend doesn't currently support widgets.\n",
       "</p>\n"
      ],
      "text/plain": [
       "HBox(children=(IntProgress(value=0, max=42), HTML(value='')))"
      ]
     },
     "metadata": {},
     "output_type": "display_data"
    },
    {
     "data": {
      "application/vnd.jupyter.widget-view+json": {
       "model_id": "e64592339d8b410692fec9d48606fd55",
       "version_major": 2,
       "version_minor": 0
      },
      "text/html": [
       "<p>Failed to display Jupyter Widget of type <code>HBox</code>.</p>\n",
       "<p>\n",
       "  If you're reading this message in the Jupyter Notebook or JupyterLab Notebook, it may mean\n",
       "  that the widgets JavaScript is still loading. If this message persists, it\n",
       "  likely means that the widgets JavaScript library is either not installed or\n",
       "  not enabled. See the <a href=\"https://ipywidgets.readthedocs.io/en/stable/user_install.html\">Jupyter\n",
       "  Widgets Documentation</a> for setup instructions.\n",
       "</p>\n",
       "<p>\n",
       "  If you're reading this message in another frontend (for example, a static\n",
       "  rendering on GitHub or <a href=\"https://nbviewer.jupyter.org/\">NBViewer</a>),\n",
       "  it may mean that your frontend doesn't currently support widgets.\n",
       "</p>\n"
      ],
      "text/plain": [
       "HBox(children=(IntProgress(value=0, max=18), HTML(value='')))"
      ]
     },
     "metadata": {},
     "output_type": "display_data"
    },
    {
     "data": {
      "application/vnd.jupyter.widget-view+json": {
       "model_id": "662b386adf6e4a31b1a3214f6f3393da",
       "version_major": 2,
       "version_minor": 0
      },
      "text/html": [
       "<p>Failed to display Jupyter Widget of type <code>HBox</code>.</p>\n",
       "<p>\n",
       "  If you're reading this message in the Jupyter Notebook or JupyterLab Notebook, it may mean\n",
       "  that the widgets JavaScript is still loading. If this message persists, it\n",
       "  likely means that the widgets JavaScript library is either not installed or\n",
       "  not enabled. See the <a href=\"https://ipywidgets.readthedocs.io/en/stable/user_install.html\">Jupyter\n",
       "  Widgets Documentation</a> for setup instructions.\n",
       "</p>\n",
       "<p>\n",
       "  If you're reading this message in another frontend (for example, a static\n",
       "  rendering on GitHub or <a href=\"https://nbviewer.jupyter.org/\">NBViewer</a>),\n",
       "  it may mean that your frontend doesn't currently support widgets.\n",
       "</p>\n"
      ],
      "text/plain": [
       "HBox(children=(IntProgress(value=0, max=42), HTML(value='')))"
      ]
     },
     "metadata": {},
     "output_type": "display_data"
    },
    {
     "data": {
      "application/vnd.jupyter.widget-view+json": {
       "model_id": "9c8b785bbb8248569bb6a9135f406f8b",
       "version_major": 2,
       "version_minor": 0
      },
      "text/html": [
       "<p>Failed to display Jupyter Widget of type <code>HBox</code>.</p>\n",
       "<p>\n",
       "  If you're reading this message in the Jupyter Notebook or JupyterLab Notebook, it may mean\n",
       "  that the widgets JavaScript is still loading. If this message persists, it\n",
       "  likely means that the widgets JavaScript library is either not installed or\n",
       "  not enabled. See the <a href=\"https://ipywidgets.readthedocs.io/en/stable/user_install.html\">Jupyter\n",
       "  Widgets Documentation</a> for setup instructions.\n",
       "</p>\n",
       "<p>\n",
       "  If you're reading this message in another frontend (for example, a static\n",
       "  rendering on GitHub or <a href=\"https://nbviewer.jupyter.org/\">NBViewer</a>),\n",
       "  it may mean that your frontend doesn't currently support widgets.\n",
       "</p>\n"
      ],
      "text/plain": [
       "HBox(children=(IntProgress(value=0, max=18), HTML(value='')))"
      ]
     },
     "metadata": {},
     "output_type": "display_data"
    },
    {
     "data": {
      "application/vnd.jupyter.widget-view+json": {
       "model_id": "795b44d0ebca424184fa527852534959",
       "version_major": 2,
       "version_minor": 0
      },
      "text/html": [
       "<p>Failed to display Jupyter Widget of type <code>HBox</code>.</p>\n",
       "<p>\n",
       "  If you're reading this message in the Jupyter Notebook or JupyterLab Notebook, it may mean\n",
       "  that the widgets JavaScript is still loading. If this message persists, it\n",
       "  likely means that the widgets JavaScript library is either not installed or\n",
       "  not enabled. See the <a href=\"https://ipywidgets.readthedocs.io/en/stable/user_install.html\">Jupyter\n",
       "  Widgets Documentation</a> for setup instructions.\n",
       "</p>\n",
       "<p>\n",
       "  If you're reading this message in another frontend (for example, a static\n",
       "  rendering on GitHub or <a href=\"https://nbviewer.jupyter.org/\">NBViewer</a>),\n",
       "  it may mean that your frontend doesn't currently support widgets.\n",
       "</p>\n"
      ],
      "text/plain": [
       "HBox(children=(IntProgress(value=0, max=42), HTML(value='')))"
      ]
     },
     "metadata": {},
     "output_type": "display_data"
    },
    {
     "data": {
      "application/vnd.jupyter.widget-view+json": {
       "model_id": "708f3ac08f9449f9b410d2a3f7064c43",
       "version_major": 2,
       "version_minor": 0
      },
      "text/html": [
       "<p>Failed to display Jupyter Widget of type <code>HBox</code>.</p>\n",
       "<p>\n",
       "  If you're reading this message in the Jupyter Notebook or JupyterLab Notebook, it may mean\n",
       "  that the widgets JavaScript is still loading. If this message persists, it\n",
       "  likely means that the widgets JavaScript library is either not installed or\n",
       "  not enabled. See the <a href=\"https://ipywidgets.readthedocs.io/en/stable/user_install.html\">Jupyter\n",
       "  Widgets Documentation</a> for setup instructions.\n",
       "</p>\n",
       "<p>\n",
       "  If you're reading this message in another frontend (for example, a static\n",
       "  rendering on GitHub or <a href=\"https://nbviewer.jupyter.org/\">NBViewer</a>),\n",
       "  it may mean that your frontend doesn't currently support widgets.\n",
       "</p>\n"
      ],
      "text/plain": [
       "HBox(children=(IntProgress(value=0, max=18), HTML(value='')))"
      ]
     },
     "metadata": {},
     "output_type": "display_data"
    },
    {
     "data": {
      "text/plain": [
       "0.5418935990915522"
      ]
     },
     "execution_count": 29,
     "metadata": {},
     "output_type": "execute_result"
    },
    {
     "data": {
      "application/vnd.jupyter.widget-view+json": {
       "model_id": "60661a385bec4d7193d2f8fa508d38d7",
       "version_major": 2,
       "version_minor": 0
      },
      "text/html": [
       "<p>Failed to display Jupyter Widget of type <code>HBox</code>.</p>\n",
       "<p>\n",
       "  If you're reading this message in the Jupyter Notebook or JupyterLab Notebook, it may mean\n",
       "  that the widgets JavaScript is still loading. If this message persists, it\n",
       "  likely means that the widgets JavaScript library is either not installed or\n",
       "  not enabled. See the <a href=\"https://ipywidgets.readthedocs.io/en/stable/user_install.html\">Jupyter\n",
       "  Widgets Documentation</a> for setup instructions.\n",
       "</p>\n",
       "<p>\n",
       "  If you're reading this message in another frontend (for example, a static\n",
       "  rendering on GitHub or <a href=\"https://nbviewer.jupyter.org/\">NBViewer</a>),\n",
       "  it may mean that your frontend doesn't currently support widgets.\n",
       "</p>\n"
      ],
      "text/plain": [
       "HBox(children=(IntProgress(value=0, description='full:', max=4), HTML(value='')))"
      ]
     },
     "metadata": {},
     "output_type": "display_data"
    },
    {
     "data": {
      "application/vnd.jupyter.widget-view+json": {
       "model_id": "09d7683f99434e669ba341dd642531b7",
       "version_major": 2,
       "version_minor": 0
      },
      "text/html": [
       "<p>Failed to display Jupyter Widget of type <code>HBox</code>.</p>\n",
       "<p>\n",
       "  If you're reading this message in the Jupyter Notebook or JupyterLab Notebook, it may mean\n",
       "  that the widgets JavaScript is still loading. If this message persists, it\n",
       "  likely means that the widgets JavaScript library is either not installed or\n",
       "  not enabled. See the <a href=\"https://ipywidgets.readthedocs.io/en/stable/user_install.html\">Jupyter\n",
       "  Widgets Documentation</a> for setup instructions.\n",
       "</p>\n",
       "<p>\n",
       "  If you're reading this message in another frontend (for example, a static\n",
       "  rendering on GitHub or <a href=\"https://nbviewer.jupyter.org/\">NBViewer</a>),\n",
       "  it may mean that your frontend doesn't currently support widgets.\n",
       "</p>\n"
      ],
      "text/plain": [
       "HBox(children=(IntProgress(value=0, max=42), HTML(value='')))"
      ]
     },
     "metadata": {},
     "output_type": "display_data"
    },
    {
     "data": {
      "application/vnd.jupyter.widget-view+json": {
       "model_id": "31342919c99449aa85ce17dd147074c6",
       "version_major": 2,
       "version_minor": 0
      },
      "text/html": [
       "<p>Failed to display Jupyter Widget of type <code>HBox</code>.</p>\n",
       "<p>\n",
       "  If you're reading this message in the Jupyter Notebook or JupyterLab Notebook, it may mean\n",
       "  that the widgets JavaScript is still loading. If this message persists, it\n",
       "  likely means that the widgets JavaScript library is either not installed or\n",
       "  not enabled. See the <a href=\"https://ipywidgets.readthedocs.io/en/stable/user_install.html\">Jupyter\n",
       "  Widgets Documentation</a> for setup instructions.\n",
       "</p>\n",
       "<p>\n",
       "  If you're reading this message in another frontend (for example, a static\n",
       "  rendering on GitHub or <a href=\"https://nbviewer.jupyter.org/\">NBViewer</a>),\n",
       "  it may mean that your frontend doesn't currently support widgets.\n",
       "</p>\n"
      ],
      "text/plain": [
       "HBox(children=(IntProgress(value=0, max=18), HTML(value='')))"
      ]
     },
     "metadata": {},
     "output_type": "display_data"
    },
    {
     "data": {
      "application/vnd.jupyter.widget-view+json": {
       "model_id": "eb80ba50c59e448ca6b6c6878686f233",
       "version_major": 2,
       "version_minor": 0
      },
      "text/html": [
       "<p>Failed to display Jupyter Widget of type <code>HBox</code>.</p>\n",
       "<p>\n",
       "  If you're reading this message in the Jupyter Notebook or JupyterLab Notebook, it may mean\n",
       "  that the widgets JavaScript is still loading. If this message persists, it\n",
       "  likely means that the widgets JavaScript library is either not installed or\n",
       "  not enabled. See the <a href=\"https://ipywidgets.readthedocs.io/en/stable/user_install.html\">Jupyter\n",
       "  Widgets Documentation</a> for setup instructions.\n",
       "</p>\n",
       "<p>\n",
       "  If you're reading this message in another frontend (for example, a static\n",
       "  rendering on GitHub or <a href=\"https://nbviewer.jupyter.org/\">NBViewer</a>),\n",
       "  it may mean that your frontend doesn't currently support widgets.\n",
       "</p>\n"
      ],
      "text/plain": [
       "HBox(children=(IntProgress(value=0, max=42), HTML(value='')))"
      ]
     },
     "metadata": {},
     "output_type": "display_data"
    },
    {
     "data": {
      "application/vnd.jupyter.widget-view+json": {
       "model_id": "6146ebee0b5e4c598e632a8ee99f964b",
       "version_major": 2,
       "version_minor": 0
      },
      "text/html": [
       "<p>Failed to display Jupyter Widget of type <code>HBox</code>.</p>\n",
       "<p>\n",
       "  If you're reading this message in the Jupyter Notebook or JupyterLab Notebook, it may mean\n",
       "  that the widgets JavaScript is still loading. If this message persists, it\n",
       "  likely means that the widgets JavaScript library is either not installed or\n",
       "  not enabled. See the <a href=\"https://ipywidgets.readthedocs.io/en/stable/user_install.html\">Jupyter\n",
       "  Widgets Documentation</a> for setup instructions.\n",
       "</p>\n",
       "<p>\n",
       "  If you're reading this message in another frontend (for example, a static\n",
       "  rendering on GitHub or <a href=\"https://nbviewer.jupyter.org/\">NBViewer</a>),\n",
       "  it may mean that your frontend doesn't currently support widgets.\n",
       "</p>\n"
      ],
      "text/plain": [
       "HBox(children=(IntProgress(value=0, max=18), HTML(value='')))"
      ]
     },
     "metadata": {},
     "output_type": "display_data"
    },
    {
     "data": {
      "application/vnd.jupyter.widget-view+json": {
       "model_id": "9fbf733fe695401382ee262040b0ee7c",
       "version_major": 2,
       "version_minor": 0
      },
      "text/html": [
       "<p>Failed to display Jupyter Widget of type <code>HBox</code>.</p>\n",
       "<p>\n",
       "  If you're reading this message in the Jupyter Notebook or JupyterLab Notebook, it may mean\n",
       "  that the widgets JavaScript is still loading. If this message persists, it\n",
       "  likely means that the widgets JavaScript library is either not installed or\n",
       "  not enabled. See the <a href=\"https://ipywidgets.readthedocs.io/en/stable/user_install.html\">Jupyter\n",
       "  Widgets Documentation</a> for setup instructions.\n",
       "</p>\n",
       "<p>\n",
       "  If you're reading this message in another frontend (for example, a static\n",
       "  rendering on GitHub or <a href=\"https://nbviewer.jupyter.org/\">NBViewer</a>),\n",
       "  it may mean that your frontend doesn't currently support widgets.\n",
       "</p>\n"
      ],
      "text/plain": [
       "HBox(children=(IntProgress(value=0, max=42), HTML(value='')))"
      ]
     },
     "metadata": {},
     "output_type": "display_data"
    },
    {
     "data": {
      "application/vnd.jupyter.widget-view+json": {
       "model_id": "8c023b0b8955499a85efa869b9d01b72",
       "version_major": 2,
       "version_minor": 0
      },
      "text/html": [
       "<p>Failed to display Jupyter Widget of type <code>HBox</code>.</p>\n",
       "<p>\n",
       "  If you're reading this message in the Jupyter Notebook or JupyterLab Notebook, it may mean\n",
       "  that the widgets JavaScript is still loading. If this message persists, it\n",
       "  likely means that the widgets JavaScript library is either not installed or\n",
       "  not enabled. See the <a href=\"https://ipywidgets.readthedocs.io/en/stable/user_install.html\">Jupyter\n",
       "  Widgets Documentation</a> for setup instructions.\n",
       "</p>\n",
       "<p>\n",
       "  If you're reading this message in another frontend (for example, a static\n",
       "  rendering on GitHub or <a href=\"https://nbviewer.jupyter.org/\">NBViewer</a>),\n",
       "  it may mean that your frontend doesn't currently support widgets.\n",
       "</p>\n"
      ],
      "text/plain": [
       "HBox(children=(IntProgress(value=0, max=18), HTML(value='')))"
      ]
     },
     "metadata": {},
     "output_type": "display_data"
    },
    {
     "data": {
      "application/vnd.jupyter.widget-view+json": {
       "model_id": "4603d8b07cbd4baa9d9a1fa8d563eb5d",
       "version_major": 2,
       "version_minor": 0
      },
      "text/html": [
       "<p>Failed to display Jupyter Widget of type <code>HBox</code>.</p>\n",
       "<p>\n",
       "  If you're reading this message in the Jupyter Notebook or JupyterLab Notebook, it may mean\n",
       "  that the widgets JavaScript is still loading. If this message persists, it\n",
       "  likely means that the widgets JavaScript library is either not installed or\n",
       "  not enabled. See the <a href=\"https://ipywidgets.readthedocs.io/en/stable/user_install.html\">Jupyter\n",
       "  Widgets Documentation</a> for setup instructions.\n",
       "</p>\n",
       "<p>\n",
       "  If you're reading this message in another frontend (for example, a static\n",
       "  rendering on GitHub or <a href=\"https://nbviewer.jupyter.org/\">NBViewer</a>),\n",
       "  it may mean that your frontend doesn't currently support widgets.\n",
       "</p>\n"
      ],
      "text/plain": [
       "HBox(children=(IntProgress(value=0, max=42), HTML(value='')))"
      ]
     },
     "metadata": {},
     "output_type": "display_data"
    },
    {
     "data": {
      "application/vnd.jupyter.widget-view+json": {
       "model_id": "527d7278465f4bb5baf0c5031daa2ff5",
       "version_major": 2,
       "version_minor": 0
      },
      "text/html": [
       "<p>Failed to display Jupyter Widget of type <code>HBox</code>.</p>\n",
       "<p>\n",
       "  If you're reading this message in the Jupyter Notebook or JupyterLab Notebook, it may mean\n",
       "  that the widgets JavaScript is still loading. If this message persists, it\n",
       "  likely means that the widgets JavaScript library is either not installed or\n",
       "  not enabled. See the <a href=\"https://ipywidgets.readthedocs.io/en/stable/user_install.html\">Jupyter\n",
       "  Widgets Documentation</a> for setup instructions.\n",
       "</p>\n",
       "<p>\n",
       "  If you're reading this message in another frontend (for example, a static\n",
       "  rendering on GitHub or <a href=\"https://nbviewer.jupyter.org/\">NBViewer</a>),\n",
       "  it may mean that your frontend doesn't currently support widgets.\n",
       "</p>\n"
      ],
      "text/plain": [
       "HBox(children=(IntProgress(value=0, max=18), HTML(value='')))"
      ]
     },
     "metadata": {},
     "output_type": "display_data"
    },
    {
     "data": {
      "text/plain": [
       "0.5521202789593197"
      ]
     },
     "execution_count": 29,
     "metadata": {},
     "output_type": "execute_result"
    },
    {
     "data": {
      "application/vnd.jupyter.widget-view+json": {
       "model_id": "9ebf43921a4d4ab6a9aec3e64cd0f114",
       "version_major": 2,
       "version_minor": 0
      },
      "text/html": [
       "<p>Failed to display Jupyter Widget of type <code>HBox</code>.</p>\n",
       "<p>\n",
       "  If you're reading this message in the Jupyter Notebook or JupyterLab Notebook, it may mean\n",
       "  that the widgets JavaScript is still loading. If this message persists, it\n",
       "  likely means that the widgets JavaScript library is either not installed or\n",
       "  not enabled. See the <a href=\"https://ipywidgets.readthedocs.io/en/stable/user_install.html\">Jupyter\n",
       "  Widgets Documentation</a> for setup instructions.\n",
       "</p>\n",
       "<p>\n",
       "  If you're reading this message in another frontend (for example, a static\n",
       "  rendering on GitHub or <a href=\"https://nbviewer.jupyter.org/\">NBViewer</a>),\n",
       "  it may mean that your frontend doesn't currently support widgets.\n",
       "</p>\n"
      ],
      "text/plain": [
       "HBox(children=(IntProgress(value=0, description='full:', max=4), HTML(value='')))"
      ]
     },
     "metadata": {},
     "output_type": "display_data"
    },
    {
     "data": {
      "application/vnd.jupyter.widget-view+json": {
       "model_id": "b2f90b51bf7946e5bfcd5e20a5de66a3",
       "version_major": 2,
       "version_minor": 0
      },
      "text/html": [
       "<p>Failed to display Jupyter Widget of type <code>HBox</code>.</p>\n",
       "<p>\n",
       "  If you're reading this message in the Jupyter Notebook or JupyterLab Notebook, it may mean\n",
       "  that the widgets JavaScript is still loading. If this message persists, it\n",
       "  likely means that the widgets JavaScript library is either not installed or\n",
       "  not enabled. See the <a href=\"https://ipywidgets.readthedocs.io/en/stable/user_install.html\">Jupyter\n",
       "  Widgets Documentation</a> for setup instructions.\n",
       "</p>\n",
       "<p>\n",
       "  If you're reading this message in another frontend (for example, a static\n",
       "  rendering on GitHub or <a href=\"https://nbviewer.jupyter.org/\">NBViewer</a>),\n",
       "  it may mean that your frontend doesn't currently support widgets.\n",
       "</p>\n"
      ],
      "text/plain": [
       "HBox(children=(IntProgress(value=0, max=42), HTML(value='')))"
      ]
     },
     "metadata": {},
     "output_type": "display_data"
    },
    {
     "data": {
      "application/vnd.jupyter.widget-view+json": {
       "model_id": "b72b30af91c44224a6796ddf22318353",
       "version_major": 2,
       "version_minor": 0
      },
      "text/html": [
       "<p>Failed to display Jupyter Widget of type <code>HBox</code>.</p>\n",
       "<p>\n",
       "  If you're reading this message in the Jupyter Notebook or JupyterLab Notebook, it may mean\n",
       "  that the widgets JavaScript is still loading. If this message persists, it\n",
       "  likely means that the widgets JavaScript library is either not installed or\n",
       "  not enabled. See the <a href=\"https://ipywidgets.readthedocs.io/en/stable/user_install.html\">Jupyter\n",
       "  Widgets Documentation</a> for setup instructions.\n",
       "</p>\n",
       "<p>\n",
       "  If you're reading this message in another frontend (for example, a static\n",
       "  rendering on GitHub or <a href=\"https://nbviewer.jupyter.org/\">NBViewer</a>),\n",
       "  it may mean that your frontend doesn't currently support widgets.\n",
       "</p>\n"
      ],
      "text/plain": [
       "HBox(children=(IntProgress(value=0, max=18), HTML(value='')))"
      ]
     },
     "metadata": {},
     "output_type": "display_data"
    },
    {
     "data": {
      "application/vnd.jupyter.widget-view+json": {
       "model_id": "a757c2609efe4c098f69d7ae8b84cc1a",
       "version_major": 2,
       "version_minor": 0
      },
      "text/html": [
       "<p>Failed to display Jupyter Widget of type <code>HBox</code>.</p>\n",
       "<p>\n",
       "  If you're reading this message in the Jupyter Notebook or JupyterLab Notebook, it may mean\n",
       "  that the widgets JavaScript is still loading. If this message persists, it\n",
       "  likely means that the widgets JavaScript library is either not installed or\n",
       "  not enabled. See the <a href=\"https://ipywidgets.readthedocs.io/en/stable/user_install.html\">Jupyter\n",
       "  Widgets Documentation</a> for setup instructions.\n",
       "</p>\n",
       "<p>\n",
       "  If you're reading this message in another frontend (for example, a static\n",
       "  rendering on GitHub or <a href=\"https://nbviewer.jupyter.org/\">NBViewer</a>),\n",
       "  it may mean that your frontend doesn't currently support widgets.\n",
       "</p>\n"
      ],
      "text/plain": [
       "HBox(children=(IntProgress(value=0, max=42), HTML(value='')))"
      ]
     },
     "metadata": {},
     "output_type": "display_data"
    },
    {
     "data": {
      "application/vnd.jupyter.widget-view+json": {
       "model_id": "255de6ce006a45a4ade4250d061c6b3d",
       "version_major": 2,
       "version_minor": 0
      },
      "text/html": [
       "<p>Failed to display Jupyter Widget of type <code>HBox</code>.</p>\n",
       "<p>\n",
       "  If you're reading this message in the Jupyter Notebook or JupyterLab Notebook, it may mean\n",
       "  that the widgets JavaScript is still loading. If this message persists, it\n",
       "  likely means that the widgets JavaScript library is either not installed or\n",
       "  not enabled. See the <a href=\"https://ipywidgets.readthedocs.io/en/stable/user_install.html\">Jupyter\n",
       "  Widgets Documentation</a> for setup instructions.\n",
       "</p>\n",
       "<p>\n",
       "  If you're reading this message in another frontend (for example, a static\n",
       "  rendering on GitHub or <a href=\"https://nbviewer.jupyter.org/\">NBViewer</a>),\n",
       "  it may mean that your frontend doesn't currently support widgets.\n",
       "</p>\n"
      ],
      "text/plain": [
       "HBox(children=(IntProgress(value=0, max=18), HTML(value='')))"
      ]
     },
     "metadata": {},
     "output_type": "display_data"
    },
    {
     "data": {
      "application/vnd.jupyter.widget-view+json": {
       "model_id": "26b6226cbb994203992bec4336659773",
       "version_major": 2,
       "version_minor": 0
      },
      "text/html": [
       "<p>Failed to display Jupyter Widget of type <code>HBox</code>.</p>\n",
       "<p>\n",
       "  If you're reading this message in the Jupyter Notebook or JupyterLab Notebook, it may mean\n",
       "  that the widgets JavaScript is still loading. If this message persists, it\n",
       "  likely means that the widgets JavaScript library is either not installed or\n",
       "  not enabled. See the <a href=\"https://ipywidgets.readthedocs.io/en/stable/user_install.html\">Jupyter\n",
       "  Widgets Documentation</a> for setup instructions.\n",
       "</p>\n",
       "<p>\n",
       "  If you're reading this message in another frontend (for example, a static\n",
       "  rendering on GitHub or <a href=\"https://nbviewer.jupyter.org/\">NBViewer</a>),\n",
       "  it may mean that your frontend doesn't currently support widgets.\n",
       "</p>\n"
      ],
      "text/plain": [
       "HBox(children=(IntProgress(value=0, max=42), HTML(value='')))"
      ]
     },
     "metadata": {},
     "output_type": "display_data"
    },
    {
     "data": {
      "application/vnd.jupyter.widget-view+json": {
       "model_id": "4f1f4154ba0e4a5f9fbb9b1d34715a2b",
       "version_major": 2,
       "version_minor": 0
      },
      "text/html": [
       "<p>Failed to display Jupyter Widget of type <code>HBox</code>.</p>\n",
       "<p>\n",
       "  If you're reading this message in the Jupyter Notebook or JupyterLab Notebook, it may mean\n",
       "  that the widgets JavaScript is still loading. If this message persists, it\n",
       "  likely means that the widgets JavaScript library is either not installed or\n",
       "  not enabled. See the <a href=\"https://ipywidgets.readthedocs.io/en/stable/user_install.html\">Jupyter\n",
       "  Widgets Documentation</a> for setup instructions.\n",
       "</p>\n",
       "<p>\n",
       "  If you're reading this message in another frontend (for example, a static\n",
       "  rendering on GitHub or <a href=\"https://nbviewer.jupyter.org/\">NBViewer</a>),\n",
       "  it may mean that your frontend doesn't currently support widgets.\n",
       "</p>\n"
      ],
      "text/plain": [
       "HBox(children=(IntProgress(value=0, max=18), HTML(value='')))"
      ]
     },
     "metadata": {},
     "output_type": "display_data"
    },
    {
     "data": {
      "application/vnd.jupyter.widget-view+json": {
       "model_id": "58c0f189e0564bf195c704f7ab917278",
       "version_major": 2,
       "version_minor": 0
      },
      "text/html": [
       "<p>Failed to display Jupyter Widget of type <code>HBox</code>.</p>\n",
       "<p>\n",
       "  If you're reading this message in the Jupyter Notebook or JupyterLab Notebook, it may mean\n",
       "  that the widgets JavaScript is still loading. If this message persists, it\n",
       "  likely means that the widgets JavaScript library is either not installed or\n",
       "  not enabled. See the <a href=\"https://ipywidgets.readthedocs.io/en/stable/user_install.html\">Jupyter\n",
       "  Widgets Documentation</a> for setup instructions.\n",
       "</p>\n",
       "<p>\n",
       "  If you're reading this message in another frontend (for example, a static\n",
       "  rendering on GitHub or <a href=\"https://nbviewer.jupyter.org/\">NBViewer</a>),\n",
       "  it may mean that your frontend doesn't currently support widgets.\n",
       "</p>\n"
      ],
      "text/plain": [
       "HBox(children=(IntProgress(value=0, max=42), HTML(value='')))"
      ]
     },
     "metadata": {},
     "output_type": "display_data"
    },
    {
     "data": {
      "application/vnd.jupyter.widget-view+json": {
       "model_id": "7a7b67af4a444f1aa4f6c2c6ffff2544",
       "version_major": 2,
       "version_minor": 0
      },
      "text/html": [
       "<p>Failed to display Jupyter Widget of type <code>HBox</code>.</p>\n",
       "<p>\n",
       "  If you're reading this message in the Jupyter Notebook or JupyterLab Notebook, it may mean\n",
       "  that the widgets JavaScript is still loading. If this message persists, it\n",
       "  likely means that the widgets JavaScript library is either not installed or\n",
       "  not enabled. See the <a href=\"https://ipywidgets.readthedocs.io/en/stable/user_install.html\">Jupyter\n",
       "  Widgets Documentation</a> for setup instructions.\n",
       "</p>\n",
       "<p>\n",
       "  If you're reading this message in another frontend (for example, a static\n",
       "  rendering on GitHub or <a href=\"https://nbviewer.jupyter.org/\">NBViewer</a>),\n",
       "  it may mean that your frontend doesn't currently support widgets.\n",
       "</p>\n"
      ],
      "text/plain": [
       "HBox(children=(IntProgress(value=0, max=18), HTML(value='')))"
      ]
     },
     "metadata": {},
     "output_type": "display_data"
    },
    {
     "data": {
      "text/plain": [
       "0.541464659828559"
      ]
     },
     "execution_count": 29,
     "metadata": {},
     "output_type": "execute_result"
    },
    {
     "data": {
      "application/vnd.jupyter.widget-view+json": {
       "model_id": "bc425f9a61f046a9bb6113948a9b8f4c",
       "version_major": 2,
       "version_minor": 0
      },
      "text/html": [
       "<p>Failed to display Jupyter Widget of type <code>HBox</code>.</p>\n",
       "<p>\n",
       "  If you're reading this message in the Jupyter Notebook or JupyterLab Notebook, it may mean\n",
       "  that the widgets JavaScript is still loading. If this message persists, it\n",
       "  likely means that the widgets JavaScript library is either not installed or\n",
       "  not enabled. See the <a href=\"https://ipywidgets.readthedocs.io/en/stable/user_install.html\">Jupyter\n",
       "  Widgets Documentation</a> for setup instructions.\n",
       "</p>\n",
       "<p>\n",
       "  If you're reading this message in another frontend (for example, a static\n",
       "  rendering on GitHub or <a href=\"https://nbviewer.jupyter.org/\">NBViewer</a>),\n",
       "  it may mean that your frontend doesn't currently support widgets.\n",
       "</p>\n"
      ],
      "text/plain": [
       "HBox(children=(IntProgress(value=0, description='full:', max=4), HTML(value='')))"
      ]
     },
     "metadata": {},
     "output_type": "display_data"
    },
    {
     "data": {
      "application/vnd.jupyter.widget-view+json": {
       "model_id": "f44d11916f0c4f97b45ca13769054ec0",
       "version_major": 2,
       "version_minor": 0
      },
      "text/html": [
       "<p>Failed to display Jupyter Widget of type <code>HBox</code>.</p>\n",
       "<p>\n",
       "  If you're reading this message in the Jupyter Notebook or JupyterLab Notebook, it may mean\n",
       "  that the widgets JavaScript is still loading. If this message persists, it\n",
       "  likely means that the widgets JavaScript library is either not installed or\n",
       "  not enabled. See the <a href=\"https://ipywidgets.readthedocs.io/en/stable/user_install.html\">Jupyter\n",
       "  Widgets Documentation</a> for setup instructions.\n",
       "</p>\n",
       "<p>\n",
       "  If you're reading this message in another frontend (for example, a static\n",
       "  rendering on GitHub or <a href=\"https://nbviewer.jupyter.org/\">NBViewer</a>),\n",
       "  it may mean that your frontend doesn't currently support widgets.\n",
       "</p>\n"
      ],
      "text/plain": [
       "HBox(children=(IntProgress(value=0, max=42), HTML(value='')))"
      ]
     },
     "metadata": {},
     "output_type": "display_data"
    },
    {
     "data": {
      "application/vnd.jupyter.widget-view+json": {
       "model_id": "6ddd1c3381e545238fd2969cc04a2954",
       "version_major": 2,
       "version_minor": 0
      },
      "text/html": [
       "<p>Failed to display Jupyter Widget of type <code>HBox</code>.</p>\n",
       "<p>\n",
       "  If you're reading this message in the Jupyter Notebook or JupyterLab Notebook, it may mean\n",
       "  that the widgets JavaScript is still loading. If this message persists, it\n",
       "  likely means that the widgets JavaScript library is either not installed or\n",
       "  not enabled. See the <a href=\"https://ipywidgets.readthedocs.io/en/stable/user_install.html\">Jupyter\n",
       "  Widgets Documentation</a> for setup instructions.\n",
       "</p>\n",
       "<p>\n",
       "  If you're reading this message in another frontend (for example, a static\n",
       "  rendering on GitHub or <a href=\"https://nbviewer.jupyter.org/\">NBViewer</a>),\n",
       "  it may mean that your frontend doesn't currently support widgets.\n",
       "</p>\n"
      ],
      "text/plain": [
       "HBox(children=(IntProgress(value=0, max=18), HTML(value='')))"
      ]
     },
     "metadata": {},
     "output_type": "display_data"
    },
    {
     "data": {
      "application/vnd.jupyter.widget-view+json": {
       "model_id": "a5a7269292094f5c838c2c4722a8392a",
       "version_major": 2,
       "version_minor": 0
      },
      "text/html": [
       "<p>Failed to display Jupyter Widget of type <code>HBox</code>.</p>\n",
       "<p>\n",
       "  If you're reading this message in the Jupyter Notebook or JupyterLab Notebook, it may mean\n",
       "  that the widgets JavaScript is still loading. If this message persists, it\n",
       "  likely means that the widgets JavaScript library is either not installed or\n",
       "  not enabled. See the <a href=\"https://ipywidgets.readthedocs.io/en/stable/user_install.html\">Jupyter\n",
       "  Widgets Documentation</a> for setup instructions.\n",
       "</p>\n",
       "<p>\n",
       "  If you're reading this message in another frontend (for example, a static\n",
       "  rendering on GitHub or <a href=\"https://nbviewer.jupyter.org/\">NBViewer</a>),\n",
       "  it may mean that your frontend doesn't currently support widgets.\n",
       "</p>\n"
      ],
      "text/plain": [
       "HBox(children=(IntProgress(value=0, max=42), HTML(value='')))"
      ]
     },
     "metadata": {},
     "output_type": "display_data"
    },
    {
     "data": {
      "application/vnd.jupyter.widget-view+json": {
       "model_id": "9589e6b3ccb74f4895e165db3c3128ca",
       "version_major": 2,
       "version_minor": 0
      },
      "text/html": [
       "<p>Failed to display Jupyter Widget of type <code>HBox</code>.</p>\n",
       "<p>\n",
       "  If you're reading this message in the Jupyter Notebook or JupyterLab Notebook, it may mean\n",
       "  that the widgets JavaScript is still loading. If this message persists, it\n",
       "  likely means that the widgets JavaScript library is either not installed or\n",
       "  not enabled. See the <a href=\"https://ipywidgets.readthedocs.io/en/stable/user_install.html\">Jupyter\n",
       "  Widgets Documentation</a> for setup instructions.\n",
       "</p>\n",
       "<p>\n",
       "  If you're reading this message in another frontend (for example, a static\n",
       "  rendering on GitHub or <a href=\"https://nbviewer.jupyter.org/\">NBViewer</a>),\n",
       "  it may mean that your frontend doesn't currently support widgets.\n",
       "</p>\n"
      ],
      "text/plain": [
       "HBox(children=(IntProgress(value=0, max=18), HTML(value='')))"
      ]
     },
     "metadata": {},
     "output_type": "display_data"
    },
    {
     "data": {
      "application/vnd.jupyter.widget-view+json": {
       "model_id": "1e7469566ee740b1a2824fd43b39aab5",
       "version_major": 2,
       "version_minor": 0
      },
      "text/html": [
       "<p>Failed to display Jupyter Widget of type <code>HBox</code>.</p>\n",
       "<p>\n",
       "  If you're reading this message in the Jupyter Notebook or JupyterLab Notebook, it may mean\n",
       "  that the widgets JavaScript is still loading. If this message persists, it\n",
       "  likely means that the widgets JavaScript library is either not installed or\n",
       "  not enabled. See the <a href=\"https://ipywidgets.readthedocs.io/en/stable/user_install.html\">Jupyter\n",
       "  Widgets Documentation</a> for setup instructions.\n",
       "</p>\n",
       "<p>\n",
       "  If you're reading this message in another frontend (for example, a static\n",
       "  rendering on GitHub or <a href=\"https://nbviewer.jupyter.org/\">NBViewer</a>),\n",
       "  it may mean that your frontend doesn't currently support widgets.\n",
       "</p>\n"
      ],
      "text/plain": [
       "HBox(children=(IntProgress(value=0, max=42), HTML(value='')))"
      ]
     },
     "metadata": {},
     "output_type": "display_data"
    },
    {
     "data": {
      "application/vnd.jupyter.widget-view+json": {
       "model_id": "7472eb7c386749f8a055297c0eb44674",
       "version_major": 2,
       "version_minor": 0
      },
      "text/html": [
       "<p>Failed to display Jupyter Widget of type <code>HBox</code>.</p>\n",
       "<p>\n",
       "  If you're reading this message in the Jupyter Notebook or JupyterLab Notebook, it may mean\n",
       "  that the widgets JavaScript is still loading. If this message persists, it\n",
       "  likely means that the widgets JavaScript library is either not installed or\n",
       "  not enabled. See the <a href=\"https://ipywidgets.readthedocs.io/en/stable/user_install.html\">Jupyter\n",
       "  Widgets Documentation</a> for setup instructions.\n",
       "</p>\n",
       "<p>\n",
       "  If you're reading this message in another frontend (for example, a static\n",
       "  rendering on GitHub or <a href=\"https://nbviewer.jupyter.org/\">NBViewer</a>),\n",
       "  it may mean that your frontend doesn't currently support widgets.\n",
       "</p>\n"
      ],
      "text/plain": [
       "HBox(children=(IntProgress(value=0, max=18), HTML(value='')))"
      ]
     },
     "metadata": {},
     "output_type": "display_data"
    },
    {
     "data": {
      "application/vnd.jupyter.widget-view+json": {
       "model_id": "adcaea6f56cb46f393c709719831055b",
       "version_major": 2,
       "version_minor": 0
      },
      "text/html": [
       "<p>Failed to display Jupyter Widget of type <code>HBox</code>.</p>\n",
       "<p>\n",
       "  If you're reading this message in the Jupyter Notebook or JupyterLab Notebook, it may mean\n",
       "  that the widgets JavaScript is still loading. If this message persists, it\n",
       "  likely means that the widgets JavaScript library is either not installed or\n",
       "  not enabled. See the <a href=\"https://ipywidgets.readthedocs.io/en/stable/user_install.html\">Jupyter\n",
       "  Widgets Documentation</a> for setup instructions.\n",
       "</p>\n",
       "<p>\n",
       "  If you're reading this message in another frontend (for example, a static\n",
       "  rendering on GitHub or <a href=\"https://nbviewer.jupyter.org/\">NBViewer</a>),\n",
       "  it may mean that your frontend doesn't currently support widgets.\n",
       "</p>\n"
      ],
      "text/plain": [
       "HBox(children=(IntProgress(value=0, max=42), HTML(value='')))"
      ]
     },
     "metadata": {},
     "output_type": "display_data"
    },
    {
     "data": {
      "application/vnd.jupyter.widget-view+json": {
       "model_id": "16cae00b2cec4a23bd5795e8419b5d1d",
       "version_major": 2,
       "version_minor": 0
      },
      "text/html": [
       "<p>Failed to display Jupyter Widget of type <code>HBox</code>.</p>\n",
       "<p>\n",
       "  If you're reading this message in the Jupyter Notebook or JupyterLab Notebook, it may mean\n",
       "  that the widgets JavaScript is still loading. If this message persists, it\n",
       "  likely means that the widgets JavaScript library is either not installed or\n",
       "  not enabled. See the <a href=\"https://ipywidgets.readthedocs.io/en/stable/user_install.html\">Jupyter\n",
       "  Widgets Documentation</a> for setup instructions.\n",
       "</p>\n",
       "<p>\n",
       "  If you're reading this message in another frontend (for example, a static\n",
       "  rendering on GitHub or <a href=\"https://nbviewer.jupyter.org/\">NBViewer</a>),\n",
       "  it may mean that your frontend doesn't currently support widgets.\n",
       "</p>\n"
      ],
      "text/plain": [
       "HBox(children=(IntProgress(value=0, max=18), HTML(value='')))"
      ]
     },
     "metadata": {},
     "output_type": "display_data"
    },
    {
     "data": {
      "text/plain": [
       "0.5789409145521438"
      ]
     },
     "execution_count": 29,
     "metadata": {},
     "output_type": "execute_result"
    },
    {
     "name": "stdout",
     "output_type": "stream",
     "text": [
      "\n"
     ]
    }
   ],
   "source": [
    "# Training\n",
    "\n",
    "myhist={'val_loss':[],\n",
    "        'val_categorical_accuracy':[],\n",
    "        'loss':[],\n",
    "        'categorical_accuracy':[],\n",
    "        'lr':[],\n",
    "        'score':[]}\n",
    "fold=tqdm_notebook([0,1,2,3],desc='fold:')\n",
    "for f in fold:\n",
    "    smin1=100\n",
    "    validate_timeseries,validate_timeseries0,validate_void,validate_meta,validate_switch,validate_y=\\\n",
    "        calculate_inputs(df_timeseries,df_validation_meta[f],meta_cols,col_weights,real_targets,length=num_samples,aug=None,return_y=True)\n",
    "    tq=tqdm_notebook(range(4),desc='full:')\n",
    "    for p in tq:\n",
    "        lr=np.array([1e-3,1e-3,1e-3,3e-4,3e-4,3e-4,1e-4,1e-4,1e-4,3e-4,3e-4,3e-4,1e-4,1e-4,1e-4,3e-5,3e-5,3e-5,\n",
    "             1e-3,3e-4,1e-4,3e-5,3e-5,3e-5,1e-5,1e-5,1e-5,3e-6,3e-6,3e-6,1e-5,1e-5,1e-5,3e-6,\n",
    "                                     3e-6,3e-6,1e-5,1e-5,1e-5,3e-6,3e-6,3e-6])\n",
    "\n",
    "        smin=100\n",
    "        executor=concurrent.futures.ProcessPoolExecutor(max_workers=4)\n",
    "        futurs=[]\n",
    "        model16 = build_model16()\n",
    "        model=model_retop(model16,4)        \n",
    "#        model.load_weights('model16fr4_{}.weights'.format(f))\n",
    "        model.compile(opt,loss=mywloss,metrics=['categorical_accuracy'])\n",
    "        aug_vals={'shift':32, 'skew':0.05,'sample':0.85}\n",
    "        for k in range(lr.shape[0]):\n",
    "            futurs.append(executor.submit(calculate_inputs,df_timeseries,df_training_meta[f],\\\n",
    "                                          meta_cols,col_weights,real_targets,length=num_samples,aug=aug_vals,return_y=True))\n",
    "        tq1=tqdm_notebook(zip(lr,concurrent.futures.as_completed(futurs)),leave=False,total=lr.shape[0])\n",
    "\n",
    "        for opt.lr,future in tq1:\n",
    "            sr,sr0,srv,train_meta,train_switch,train_y=future.result(timeout=200)\n",
    "            _=gc.collect()\n",
    "            #print(time.time()-strt)\n",
    "            history=model.fit([sr,sr0,srv,train_meta,train_switch],train_y,batch_size=64,epochs=1,\n",
    "                            validation_data=([validate_timeseries,validate_timeseries0,validate_void,\n",
    "                                              validate_meta,validate_switch],validate_y),\n",
    "                                                verbose=0 )\n",
    "            y=model.predict([validate_timeseries,validate_timeseries0,validate_void,\n",
    "                                              validate_meta,validate_switch],batch_size=64)\n",
    "\n",
    "            s=score(y,validate_y)\n",
    "            #print(s)\n",
    "            myhist['val_loss'].extend(history.history['val_loss'])\n",
    "            myhist['val_categorical_accuracy'].extend(history.history['val_categorical_accuracy'])\n",
    "            myhist['loss'].extend(history.history['loss'])\n",
    "            myhist['categorical_accuracy'].extend(history.history['categorical_accuracy'])\n",
    "            myhist['lr'].append(opt.lr)\n",
    "            myhist['score'].append(s)\n",
    "            if s<smin:\n",
    "                smin=s\n",
    "                weights_min=model.get_weights()\n",
    "            tq1.set_postfix(lr=opt.lr,current_score=s,loss=history.history['loss'][0],val_loss=history.history['val_loss'][0])\n",
    "            tq.set_postfix(temp_min=smin,total_min=min(smin,smin1))\n",
    "        executor.shutdown(wait=True)\n",
    "\n",
    "        #weights_min1=weights_min.copy()            \n",
    "        lr=np.array([3e-6,3e-6,3e-6,3e-5,3e-6,3e-6,3e-5,3e-6,3e-4,3e-5,3e-6,3e-6,3e-5,3e-6,3e-6,3e-5,3e-6,3e-6])\n",
    "        aug_vals={'shift':128, 'skew':0.05,'sample':0.85}\n",
    "\n",
    "        executor=concurrent.futures.ProcessPoolExecutor(max_workers=4)\n",
    "        futurs=[]\n",
    "\n",
    "        model16 = build_model16()\n",
    "        model=model_retop(model16,4)        \n",
    "        model.set_weights(weights_min)\n",
    "        model.compile(opt,loss=mywloss,metrics=['categorical_accuracy'])\n",
    "        for k in range(lr.shape[0]):\n",
    "            futurs.append(executor.submit(calculate_inputs,df_timeseries,df_training_meta[f],meta_cols,\\\n",
    "                                          col_weights,real_targets,length=num_samples,aug=aug_vals,return_y=True))\n",
    "        tq2=tqdm_notebook(zip(lr,concurrent.futures.as_completed(futurs)),leave=False,total=lr.shape[0])\n",
    "        for opt.lr,future in tq2:\n",
    "\n",
    "            sr,sr0,srv,train_meta,train_switch,train_y=future.result(timeout=200)\n",
    "            _=gc.collect()\n",
    "            history=model.fit([sr,sr0,srv,train_meta,train_switch],train_y,batch_size=256,epochs=1,\n",
    "                            validation_data=([validate_timeseries,validate_timeseries0,validate_void,\n",
    "                                              validate_meta,validate_switch],validate_y),\n",
    "                                                verbose=0 )\n",
    "            y=model.predict([validate_timeseries,validate_timeseries0,validate_void,\n",
    "                                              validate_meta,validate_switch],batch_size=64)\n",
    "            s=score(y,validate_y)\n",
    "            #print(s)\n",
    "            myhist['val_loss'].extend(history.history['val_loss'])\n",
    "            myhist['val_categorical_accuracy'].extend(history.history['val_categorical_accuracy'])\n",
    "            myhist['loss'].extend(history.history['loss'])\n",
    "            myhist['categorical_accuracy'].extend(history.history['categorical_accuracy'])\n",
    "            myhist['lr'].append(opt.lr)\n",
    "            myhist['score'].append(s)\n",
    "            if s<smin:\n",
    "                smin=s\n",
    "                weights_min=model.get_weights()\n",
    "            tq2.set_postfix(lr=opt.lr,current_score=s,loss=history.history['loss'][0],val_loss=history.history['val_loss'][0])\n",
    "            tq.set_postfix(temp_min=smin,total_min=min(smin,smin1))\n",
    "        executor.shutdown(wait=True)\n",
    "        if smin<smin1:\n",
    "            smin1=smin\n",
    "            weights_min1=weights_min.copy()\n",
    "\n",
    "    model.set_weights(weights_min1)\n",
    "    model.save_weights('model16fr4q2_{}.weights'.format(f))\n",
    "    y=model.predict([validate_timeseries,validate_timeseries0,validate_void,\n",
    "                                              validate_meta,validate_switch],batch_size=64)\n",
    "\n",
    "    score(y,validate_y)\n"
   ]
  },
  {
   "cell_type": "code",
   "execution_count": 30,
   "metadata": {},
   "outputs": [
    {
     "data": {
      "text/plain": [
       "0.5418935990915522"
      ]
     },
     "execution_count": 30,
     "metadata": {},
     "output_type": "execute_result"
    },
    {
     "data": {
      "text/plain": [
       "0.5494089737632141"
      ]
     },
     "execution_count": 30,
     "metadata": {},
     "output_type": "execute_result"
    },
    {
     "data": {
      "text/plain": [
       "0.541464659828559"
      ]
     },
     "execution_count": 30,
     "metadata": {},
     "output_type": "execute_result"
    },
    {
     "data": {
      "text/plain": [
       "0.573316249675152"
      ]
     },
     "execution_count": 30,
     "metadata": {},
     "output_type": "execute_result"
    },
    {
     "data": {
      "text/plain": [
       "0.5515427988082393"
      ]
     },
     "execution_count": 30,
     "metadata": {},
     "output_type": "execute_result"
    }
   ],
   "source": [
    "ys=[]\n",
    "yv=[]\n",
    "#model = build_model15()\n",
    "model16 = build_model16()\n",
    "model=model_retop(model16,4)\n",
    "for f in [0,1,2,3]:\n",
    "    validate_timeseries,validate_timeseries0,validate_void,validate_meta,validate_switch,validate_y=\\\n",
    "        calculate_inputs(df_timeseries,df_validation_meta[f],meta_cols,col_weights,real_targets,length=num_samples,aug=None,return_y=True)\n",
    "\n",
    "    model.load_weights('model16fr4q_{}.weights'.format(f))\n",
    "    \n",
    "    y=model.predict([validate_timeseries,validate_timeseries0,validate_void,\n",
    "                                              validate_meta,validate_switch],batch_size=64)\n",
    "\n",
    "    score(y,validate_y)\n",
    "    ys.append(y.copy())\n",
    "    yv.append(validate_y.copy())\n",
    "score(np.concatenate(ys),np.concatenate(yv))"
   ]
  },
  {
   "cell_type": "code",
   "execution_count": 31,
   "metadata": {},
   "outputs": [
    {
     "data": {
      "text/plain": [
       "[<matplotlib.lines.Line2D at 0x20571a7f7b8>]"
      ]
     },
     "execution_count": 31,
     "metadata": {},
     "output_type": "execute_result"
    },
    {
     "data": {
      "text/plain": [
       "[<matplotlib.lines.Line2D at 0x2038ba349b0>]"
      ]
     },
     "execution_count": 31,
     "metadata": {},
     "output_type": "execute_result"
    },
    {
     "data": {
      "text/plain": [
       "[<matplotlib.lines.Line2D at 0x20571a7fcf8>]"
      ]
     },
     "execution_count": 31,
     "metadata": {},
     "output_type": "execute_result"
    },
    {
     "data": {
      "image/png": "[encoded data removed]",
      "text/plain": [
       "<Figure size 432x288 with 1 Axes>"
      ]
     },
     "metadata": {},
     "output_type": "display_data"
    }
   ],
   "source": [
    "plt.plot(myhist['loss'])\n",
    "plt.plot(myhist['val_loss'])\n",
    "plt.plot(myhist['score'])"
   ]
  },
  {
   "cell_type": "code",
   "execution_count": 32,
   "metadata": {},
   "outputs": [],
   "source": [
    "df_test_meta=pd.read_csv(DATA_DIR+'test_set_metadata.csv')"
   ]
  },
  {
   "cell_type": "code",
   "execution_count": 33,
   "metadata": {},
   "outputs": [
    {
     "data": {
      "text/html": [
       "<div>\n",
       "<style scoped>\n",
       "    .dataframe tbody tr th:only-of-type {\n",
       "        vertical-align: middle;\n",
       "    }\n",
       "\n",
       "    .dataframe tbody tr th {\n",
       "        vertical-align: top;\n",
       "    }\n",
       "\n",
       "    .dataframe thead th {\n",
       "        text-align: right;\n",
       "    }\n",
       "</style>\n",
       "<table border=\"1\" class=\"dataframe\">\n",
       "  <thead>\n",
       "    <tr style=\"text-align: right;\">\n",
       "      <th></th>\n",
       "      <th>feature_name</th>\n",
       "      <th>rank</th>\n",
       "      <th>place</th>\n",
       "      <th>mean</th>\n",
       "      <th>max</th>\n",
       "      <th>std</th>\n",
       "    </tr>\n",
       "  </thead>\n",
       "  <tbody>\n",
       "    <tr>\n",
       "      <th>0</th>\n",
       "      <td>diff_mjd_max_detected_over_p_sum</td>\n",
       "      <td>10.541500</td>\n",
       "      <td>0</td>\n",
       "      <td>351.008540</td>\n",
       "      <td>4208.961400</td>\n",
       "      <td>552.621100</td>\n",
       "    </tr>\n",
       "    <tr>\n",
       "      <th>1</th>\n",
       "      <td>dist_squared_shifted_flux_max_passband_0_detec...</td>\n",
       "      <td>9.330020</td>\n",
       "      <td>1</td>\n",
       "      <td>0.160670</td>\n",
       "      <td>1.000000</td>\n",
       "      <td>0.144738</td>\n",
       "    </tr>\n",
       "    <tr>\n",
       "      <th>2</th>\n",
       "      <td>abs_curve_angle_max_detected_over_p_sum</td>\n",
       "      <td>7.478503</td>\n",
       "      <td>2</td>\n",
       "      <td>2.895284</td>\n",
       "      <td>9.402072</td>\n",
       "      <td>2.603434</td>\n",
       "    </tr>\n",
       "    <tr>\n",
       "      <th>3</th>\n",
       "      <td>flux_3_sigma_max_passband_0_detected_normed</td>\n",
       "      <td>7.294360</td>\n",
       "      <td>3</td>\n",
       "      <td>0.173302</td>\n",
       "      <td>23.940300</td>\n",
       "      <td>0.465190</td>\n",
       "    </tr>\n",
       "    <tr>\n",
       "      <th>4</th>\n",
       "      <td>diff_mjd_mean_detected_over_p_sum</td>\n",
       "      <td>5.956270</td>\n",
       "      <td>4</td>\n",
       "      <td>152.100130</td>\n",
       "      <td>3443.314700</td>\n",
       "      <td>260.891800</td>\n",
       "    </tr>\n",
       "  </tbody>\n",
       "</table>\n",
       "</div>"
      ],
      "text/plain": [
       "                                        feature_name       rank  place  \\\n",
       "0                   diff_mjd_max_detected_over_p_sum  10.541500      0   \n",
       "1  dist_squared_shifted_flux_max_passband_0_detec...   9.330020      1   \n",
       "2            abs_curve_angle_max_detected_over_p_sum   7.478503      2   \n",
       "3        flux_3_sigma_max_passband_0_detected_normed   7.294360      3   \n",
       "4                  diff_mjd_mean_detected_over_p_sum   5.956270      4   \n",
       "\n",
       "         mean          max         std  \n",
       "0  351.008540  4208.961400  552.621100  \n",
       "1    0.160670     1.000000    0.144738  \n",
       "2    2.895284     9.402072    2.603434  \n",
       "3    0.173302    23.940300    0.465190  \n",
       "4  152.100130  3443.314700  260.891800  "
      ]
     },
     "execution_count": 33,
     "metadata": {},
     "output_type": "execute_result"
    }
   ],
   "source": [
    "mamas_feat_test=np.load('D:\\DATA\\mamas\\mamas_feat_v2_test.npy')\n",
    "df_feature_rank=pd.read_csv('feature_rank.csv'.format(DATA_DIR))\n",
    "df_feature_rank.head()\n",
    "\n",
    "df_feature_rank=pd.read_csv('feature_rank.csv'.format(DATA_DIR)).iloc[:64]\n",
    "#stds=np.nanstd(mamas_feat,axis=0)\n",
    "\n",
    "mamas_feat_norm=np.add(np.clip(np.nan_to_num(mamas_feat_test),-df_feature_rank['max'].values,df_feature_rank['max'].values),-df_feature_rank['mean'].values)\n",
    "\n",
    "mamas_feat_norm=np.divide(mamas_feat_norm,df_feature_rank['std'].values)"
   ]
  },
  {
   "cell_type": "code",
   "execution_count": 34,
   "metadata": {},
   "outputs": [],
   "source": [
    "df_mamas_features_test=pd.DataFrame(index=df_test_meta.object_id,data=mamas_feat_norm).reset_index()"
   ]
  },
  {
   "cell_type": "code",
   "execution_count": 35,
   "metadata": {},
   "outputs": [],
   "source": [
    "#with mamas\n",
    "#cols=['hostgal_photoz','std_flux']\n",
    "#cols.extend(range(16))\n",
    "cols=['hostgal_photoz','dmjd','std_flux','distmod'] #without mamas\n",
    "#cols"
   ]
  },
  {
   "cell_type": "code",
   "execution_count": 38,
   "metadata": {},
   "outputs": [
    {
     "data": {
      "text/plain": [
       "['hostgal_photoz', 'dmjd', 'std_flux', 'distmod']"
      ]
     },
     "execution_count": 38,
     "metadata": {},
     "output_type": "execute_result"
    },
    {
     "name": "stdout",
     "output_type": "stream",
     "text": [
      "start\n",
      "running\n"
     ]
    },
    {
     "data": {
      "application/vnd.jupyter.widget-view+json": {
       "model_id": "5e75f06047c44f49bbccb7e916e3b404",
       "version_major": 2,
       "version_minor": 0
      },
      "text/html": [
       "<p>Failed to display Jupyter Widget of type <code>HBox</code>.</p>\n",
       "<p>\n",
       "  If you're reading this message in the Jupyter Notebook or JupyterLab Notebook, it may mean\n",
       "  that the widgets JavaScript is still loading. If this message persists, it\n",
       "  likely means that the widgets JavaScript library is either not installed or\n",
       "  not enabled. See the <a href=\"https://ipywidgets.readthedocs.io/en/stable/user_install.html\">Jupyter\n",
       "  Widgets Documentation</a> for setup instructions.\n",
       "</p>\n",
       "<p>\n",
       "  If you're reading this message in another frontend (for example, a static\n",
       "  rendering on GitHub or <a href=\"https://nbviewer.jupyter.org/\">NBViewer</a>),\n",
       "  it may mean that your frontend doesn't currently support widgets.\n",
       "</p>\n"
      ],
      "text/plain": [
       "HBox(children=(IntProgress(value=0, description='objects:', max=3492890), HTML(value='')))"
      ]
     },
     "metadata": {},
     "output_type": "display_data"
    }
   ],
   "source": [
    "cols=['hostgal_photoz','dmjd','std_flux','distmod']\n",
    "col_weights=[1.0,1.0,1.0,1.0]\n",
    "cols\n",
    "models=[]\n",
    "res_dfs=[]\n",
    "res_dfps=[]\n",
    "queue_length=4\n",
    "chunksize=500000\n",
    "for f in range(4):\n",
    "    modelb = build_model16()\n",
    "    modelp=model_retop(modelb,4)\n",
    "    model=model_tap(modelp)\n",
    "    modelp.load_weights('model16fr4q_{}.weights'.format(f))\n",
    "    models.append(model)\n",
    "    res_dfs.append([])\n",
    "    res_dfps.append([])\n",
    "timeseries_file=DATA_DIR+'test_set.csv'\n",
    "df_test_meta=pd.read_csv(DATA_DIR+'test_set_metadata.csv')\n",
    "df_test_extra = pd.read_csv(DATA_DIR+'test_extra.csv')\n",
    "df_test_meta=df_test_meta.merge(df_test_extra,on='object_id',how='left').sort_values('object_id')\n",
    "in_queue =  Queue(queue_length)\n",
    "out_queue =  Queue(queue_length)\n",
    "print('start')\n",
    "Process(target=load_process, args=(df_test_meta,timeseries_file,in_queue,queue_length,chunksize)).start()\n",
    "for q in range(queue_length):\n",
    "    Process(target=prepare_process,args=(cols,col_weights,real_targets,in_queue,out_queue,num_samples)).start()\n",
    "print('running')\n",
    "tq=tqdm_notebook(desc='objects:',total=df_test_meta.shape[0])\n",
    "for st in range(queue_length):\n",
    "    for object_id,timeseries,timeseries0,void,meta,sw in iter(out_queue.get, 'STOPED'):\n",
    "        for f in range(4):\n",
    "            [y,yp,yf]=models[f].predict([timeseries,timeseries0,void,meta,sw],batch_size=64)\n",
    "            res_dfs[f].append(pd.DataFrame(index=object_id, data=y, columns=['class_%d' % k for k in real_targets]))\n",
    "            res_dfps[f].append(pd.DataFrame(index=object_id, data=yp, columns=['class_%d' % k for k in real_targets]))\n",
    "        tq.update(meta.shape[0])\n",
    "df_res=[]\n",
    "df_resp=[]\n",
    "for f in range(4):\n",
    "    df_res.append(pd.concat(res_dfs[f]).sort_index())\n",
    "    df_resp.append(pd.concat(res_dfps[f]).sort_index())\n"
   ]
  },
  {
   "cell_type": "code",
   "execution_count": 39,
   "metadata": {},
   "outputs": [],
   "source": [
    "for f in range(4):\n",
    "    df_res[f].to_csv('{}res1/pred16r4q_{}.csv'.format(External_Dir,f))\n",
    "    df_resp[f].to_csv('{}res1/pred16rp4q_{}.csv'.format(External_Dir,f))"
   ]
  },
  {
   "cell_type": "code",
   "execution_count": 40,
   "metadata": {},
   "outputs": [],
   "source": [
    "for f in range(4):\n",
    "    df_res[f]['class_99']=(1-df_res[f].max(axis=1))\n",
    "\n",
    "for f in range(4):\n",
    "    m=df_res[f]['class_99'].mean()\n",
    "    df_res[f]['class_99']=df_res[f]['class_99']/m/8\n",
    "    df_res[f]=df_res[f].div(df_res[f].sum(axis=1), axis=0)\n"
   ]
  },
  {
   "cell_type": "code",
   "execution_count": 41,
   "metadata": {
    "scrolled": false
   },
   "outputs": [
    {
     "data": {
      "text/html": [
       "<div>\n",
       "<style scoped>\n",
       "    .dataframe tbody tr th:only-of-type {\n",
       "        vertical-align: middle;\n",
       "    }\n",
       "\n",
       "    .dataframe tbody tr th {\n",
       "        vertical-align: top;\n",
       "    }\n",
       "\n",
       "    .dataframe thead th {\n",
       "        text-align: right;\n",
       "    }\n",
       "</style>\n",
       "<table border=\"1\" class=\"dataframe\">\n",
       "  <thead>\n",
       "    <tr style=\"text-align: right;\">\n",
       "      <th></th>\n",
       "      <th>class_6</th>\n",
       "      <th>class_16</th>\n",
       "      <th>class_53</th>\n",
       "      <th>class_65</th>\n",
       "      <th>class_92</th>\n",
       "      <th>class_15</th>\n",
       "      <th>class_42</th>\n",
       "      <th>class_52</th>\n",
       "      <th>class_62</th>\n",
       "      <th>class_64</th>\n",
       "      <th>class_67</th>\n",
       "      <th>class_88</th>\n",
       "      <th>class_90</th>\n",
       "      <th>class_95</th>\n",
       "      <th>class_99</th>\n",
       "    </tr>\n",
       "    <tr>\n",
       "      <th>object_id</th>\n",
       "      <th></th>\n",
       "      <th></th>\n",
       "      <th></th>\n",
       "      <th></th>\n",
       "      <th></th>\n",
       "      <th></th>\n",
       "      <th></th>\n",
       "      <th></th>\n",
       "      <th></th>\n",
       "      <th></th>\n",
       "      <th></th>\n",
       "      <th></th>\n",
       "      <th></th>\n",
       "      <th></th>\n",
       "      <th></th>\n",
       "    </tr>\n",
       "  </thead>\n",
       "  <tbody>\n",
       "    <tr>\n",
       "      <th>13</th>\n",
       "      <td>0.0</td>\n",
       "      <td>0.0</td>\n",
       "      <td>0.0</td>\n",
       "      <td>0.0</td>\n",
       "      <td>0.0</td>\n",
       "      <td>0.000031</td>\n",
       "      <td>0.661750</td>\n",
       "      <td>0.061582</td>\n",
       "      <td>0.166621</td>\n",
       "      <td>2.474877e-08</td>\n",
       "      <td>0.003512</td>\n",
       "      <td>0.000009</td>\n",
       "      <td>0.008560</td>\n",
       "      <td>0.021373</td>\n",
       "      <td>0.076561</td>\n",
       "    </tr>\n",
       "    <tr>\n",
       "      <th>14</th>\n",
       "      <td>0.0</td>\n",
       "      <td>0.0</td>\n",
       "      <td>0.0</td>\n",
       "      <td>0.0</td>\n",
       "      <td>0.0</td>\n",
       "      <td>0.001137</td>\n",
       "      <td>0.199629</td>\n",
       "      <td>0.115450</td>\n",
       "      <td>0.013136</td>\n",
       "      <td>2.311646e-05</td>\n",
       "      <td>0.007960</td>\n",
       "      <td>0.000440</td>\n",
       "      <td>0.545773</td>\n",
       "      <td>0.013522</td>\n",
       "      <td>0.102930</td>\n",
       "    </tr>\n",
       "    <tr>\n",
       "      <th>17</th>\n",
       "      <td>0.0</td>\n",
       "      <td>0.0</td>\n",
       "      <td>0.0</td>\n",
       "      <td>0.0</td>\n",
       "      <td>0.0</td>\n",
       "      <td>0.000212</td>\n",
       "      <td>0.288093</td>\n",
       "      <td>0.177768</td>\n",
       "      <td>0.021310</td>\n",
       "      <td>1.234994e-04</td>\n",
       "      <td>0.001393</td>\n",
       "      <td>0.000014</td>\n",
       "      <td>0.376796</td>\n",
       "      <td>0.011636</td>\n",
       "      <td>0.122654</td>\n",
       "    </tr>\n",
       "    <tr>\n",
       "      <th>23</th>\n",
       "      <td>0.0</td>\n",
       "      <td>0.0</td>\n",
       "      <td>0.0</td>\n",
       "      <td>0.0</td>\n",
       "      <td>0.0</td>\n",
       "      <td>0.000130</td>\n",
       "      <td>0.086644</td>\n",
       "      <td>0.046383</td>\n",
       "      <td>0.124279</td>\n",
       "      <td>1.645082e-05</td>\n",
       "      <td>0.257798</td>\n",
       "      <td>0.000002</td>\n",
       "      <td>0.307015</td>\n",
       "      <td>0.028750</td>\n",
       "      <td>0.148983</td>\n",
       "    </tr>\n",
       "    <tr>\n",
       "      <th>34</th>\n",
       "      <td>0.0</td>\n",
       "      <td>0.0</td>\n",
       "      <td>0.0</td>\n",
       "      <td>0.0</td>\n",
       "      <td>0.0</td>\n",
       "      <td>0.001262</td>\n",
       "      <td>0.062872</td>\n",
       "      <td>0.329083</td>\n",
       "      <td>0.013836</td>\n",
       "      <td>4.278123e-07</td>\n",
       "      <td>0.021855</td>\n",
       "      <td>0.000022</td>\n",
       "      <td>0.428474</td>\n",
       "      <td>0.014321</td>\n",
       "      <td>0.128275</td>\n",
       "    </tr>\n",
       "  </tbody>\n",
       "</table>\n",
       "</div>"
      ],
      "text/plain": [
       "           class_6  class_16  class_53  class_65  class_92  class_15  \\\n",
       "object_id                                                              \n",
       "13             0.0       0.0       0.0       0.0       0.0  0.000031   \n",
       "14             0.0       0.0       0.0       0.0       0.0  0.001137   \n",
       "17             0.0       0.0       0.0       0.0       0.0  0.000212   \n",
       "23             0.0       0.0       0.0       0.0       0.0  0.000130   \n",
       "34             0.0       0.0       0.0       0.0       0.0  0.001262   \n",
       "\n",
       "           class_42  class_52  class_62      class_64  class_67  class_88  \\\n",
       "object_id                                                                   \n",
       "13         0.661750  0.061582  0.166621  2.474877e-08  0.003512  0.000009   \n",
       "14         0.199629  0.115450  0.013136  2.311646e-05  0.007960  0.000440   \n",
       "17         0.288093  0.177768  0.021310  1.234994e-04  0.001393  0.000014   \n",
       "23         0.086644  0.046383  0.124279  1.645082e-05  0.257798  0.000002   \n",
       "34         0.062872  0.329083  0.013836  4.278123e-07  0.021855  0.000022   \n",
       "\n",
       "           class_90  class_95  class_99  \n",
       "object_id                                \n",
       "13         0.008560  0.021373  0.076561  \n",
       "14         0.545773  0.013522  0.102930  \n",
       "17         0.376796  0.011636  0.122654  \n",
       "23         0.307015  0.028750  0.148983  \n",
       "34         0.428474  0.014321  0.128275  "
      ]
     },
     "execution_count": 41,
     "metadata": {},
     "output_type": "execute_result"
    },
    {
     "data": {
      "text/html": [
       "<div>\n",
       "<style scoped>\n",
       "    .dataframe tbody tr th:only-of-type {\n",
       "        vertical-align: middle;\n",
       "    }\n",
       "\n",
       "    .dataframe tbody tr th {\n",
       "        vertical-align: top;\n",
       "    }\n",
       "\n",
       "    .dataframe thead th {\n",
       "        text-align: right;\n",
       "    }\n",
       "</style>\n",
       "<table border=\"1\" class=\"dataframe\">\n",
       "  <thead>\n",
       "    <tr style=\"text-align: right;\">\n",
       "      <th></th>\n",
       "      <th>class_6</th>\n",
       "      <th>class_16</th>\n",
       "      <th>class_53</th>\n",
       "      <th>class_65</th>\n",
       "      <th>class_92</th>\n",
       "      <th>class_15</th>\n",
       "      <th>class_42</th>\n",
       "      <th>class_52</th>\n",
       "      <th>class_62</th>\n",
       "      <th>class_64</th>\n",
       "      <th>class_67</th>\n",
       "      <th>class_88</th>\n",
       "      <th>class_90</th>\n",
       "      <th>class_95</th>\n",
       "      <th>class_99</th>\n",
       "    </tr>\n",
       "    <tr>\n",
       "      <th>object_id</th>\n",
       "      <th></th>\n",
       "      <th></th>\n",
       "      <th></th>\n",
       "      <th></th>\n",
       "      <th></th>\n",
       "      <th></th>\n",
       "      <th></th>\n",
       "      <th></th>\n",
       "      <th></th>\n",
       "      <th></th>\n",
       "      <th></th>\n",
       "      <th></th>\n",
       "      <th></th>\n",
       "      <th></th>\n",
       "      <th></th>\n",
       "    </tr>\n",
       "  </thead>\n",
       "  <tbody>\n",
       "    <tr>\n",
       "      <th>109520686</th>\n",
       "      <td>0.000995</td>\n",
       "      <td>0.000995</td>\n",
       "      <td>0.000995</td>\n",
       "      <td>0.000995</td>\n",
       "      <td>0.000995</td>\n",
       "      <td>0.010690</td>\n",
       "      <td>0.063377</td>\n",
       "      <td>0.036011</td>\n",
       "      <td>0.039045</td>\n",
       "      <td>0.446707</td>\n",
       "      <td>0.031390</td>\n",
       "      <td>0.005622</td>\n",
       "      <td>0.149934</td>\n",
       "      <td>0.100207</td>\n",
       "      <td>0.112041</td>\n",
       "    </tr>\n",
       "    <tr>\n",
       "      <th>55702866</th>\n",
       "      <td>0.000995</td>\n",
       "      <td>0.000995</td>\n",
       "      <td>0.000995</td>\n",
       "      <td>0.000995</td>\n",
       "      <td>0.000995</td>\n",
       "      <td>0.042260</td>\n",
       "      <td>0.111293</td>\n",
       "      <td>0.097353</td>\n",
       "      <td>0.035189</td>\n",
       "      <td>0.002561</td>\n",
       "      <td>0.044560</td>\n",
       "      <td>0.066120</td>\n",
       "      <td>0.441043</td>\n",
       "      <td>0.029620</td>\n",
       "      <td>0.125025</td>\n",
       "    </tr>\n",
       "    <tr>\n",
       "      <th>53038648</th>\n",
       "      <td>0.000987</td>\n",
       "      <td>0.000987</td>\n",
       "      <td>0.000987</td>\n",
       "      <td>0.986184</td>\n",
       "      <td>0.000987</td>\n",
       "      <td>0.000987</td>\n",
       "      <td>0.000987</td>\n",
       "      <td>0.000987</td>\n",
       "      <td>0.000987</td>\n",
       "      <td>0.000987</td>\n",
       "      <td>0.000987</td>\n",
       "      <td>0.000987</td>\n",
       "      <td>0.000987</td>\n",
       "      <td>0.000987</td>\n",
       "      <td>0.000987</td>\n",
       "    </tr>\n",
       "    <tr>\n",
       "      <th>23585850</th>\n",
       "      <td>0.000993</td>\n",
       "      <td>0.000993</td>\n",
       "      <td>0.000993</td>\n",
       "      <td>0.000993</td>\n",
       "      <td>0.000993</td>\n",
       "      <td>0.000993</td>\n",
       "      <td>0.068968</td>\n",
       "      <td>0.100385</td>\n",
       "      <td>0.039087</td>\n",
       "      <td>0.001178</td>\n",
       "      <td>0.251664</td>\n",
       "      <td>0.000993</td>\n",
       "      <td>0.324840</td>\n",
       "      <td>0.062621</td>\n",
       "      <td>0.144304</td>\n",
       "    </tr>\n",
       "    <tr>\n",
       "      <th>11777945</th>\n",
       "      <td>0.000986</td>\n",
       "      <td>0.000986</td>\n",
       "      <td>0.000986</td>\n",
       "      <td>0.000986</td>\n",
       "      <td>0.000986</td>\n",
       "      <td>0.000986</td>\n",
       "      <td>0.000986</td>\n",
       "      <td>0.000986</td>\n",
       "      <td>0.000986</td>\n",
       "      <td>0.000986</td>\n",
       "      <td>0.000986</td>\n",
       "      <td>0.986192</td>\n",
       "      <td>0.000986</td>\n",
       "      <td>0.000986</td>\n",
       "      <td>0.000986</td>\n",
       "    </tr>\n",
       "    <tr>\n",
       "      <th>95713015</th>\n",
       "      <td>0.000995</td>\n",
       "      <td>0.000995</td>\n",
       "      <td>0.000995</td>\n",
       "      <td>0.000995</td>\n",
       "      <td>0.000995</td>\n",
       "      <td>0.002294</td>\n",
       "      <td>0.065494</td>\n",
       "      <td>0.383860</td>\n",
       "      <td>0.016053</td>\n",
       "      <td>0.001033</td>\n",
       "      <td>0.069672</td>\n",
       "      <td>0.005551</td>\n",
       "      <td>0.317211</td>\n",
       "      <td>0.001374</td>\n",
       "      <td>0.132483</td>\n",
       "    </tr>\n",
       "    <tr>\n",
       "      <th>57145312</th>\n",
       "      <td>0.000991</td>\n",
       "      <td>0.000991</td>\n",
       "      <td>0.000991</td>\n",
       "      <td>0.000991</td>\n",
       "      <td>0.000991</td>\n",
       "      <td>0.000991</td>\n",
       "      <td>0.041130</td>\n",
       "      <td>0.217390</td>\n",
       "      <td>0.004067</td>\n",
       "      <td>0.000991</td>\n",
       "      <td>0.019808</td>\n",
       "      <td>0.000991</td>\n",
       "      <td>0.625958</td>\n",
       "      <td>0.000991</td>\n",
       "      <td>0.082724</td>\n",
       "    </tr>\n",
       "    <tr>\n",
       "      <th>60069315</th>\n",
       "      <td>0.000993</td>\n",
       "      <td>0.000993</td>\n",
       "      <td>0.000993</td>\n",
       "      <td>0.000993</td>\n",
       "      <td>0.000993</td>\n",
       "      <td>0.002000</td>\n",
       "      <td>0.146458</td>\n",
       "      <td>0.238371</td>\n",
       "      <td>0.062922</td>\n",
       "      <td>0.085212</td>\n",
       "      <td>0.054870</td>\n",
       "      <td>0.000993</td>\n",
       "      <td>0.248597</td>\n",
       "      <td>0.000993</td>\n",
       "      <td>0.154616</td>\n",
       "    </tr>\n",
       "    <tr>\n",
       "      <th>76824687</th>\n",
       "      <td>0.000995</td>\n",
       "      <td>0.000995</td>\n",
       "      <td>0.000995</td>\n",
       "      <td>0.000995</td>\n",
       "      <td>0.000995</td>\n",
       "      <td>0.095596</td>\n",
       "      <td>0.193323</td>\n",
       "      <td>0.071866</td>\n",
       "      <td>0.273471</td>\n",
       "      <td>0.016363</td>\n",
       "      <td>0.034557</td>\n",
       "      <td>0.008123</td>\n",
       "      <td>0.067405</td>\n",
       "      <td>0.071993</td>\n",
       "      <td>0.162327</td>\n",
       "    </tr>\n",
       "    <tr>\n",
       "      <th>30422615</th>\n",
       "      <td>0.000992</td>\n",
       "      <td>0.000992</td>\n",
       "      <td>0.000992</td>\n",
       "      <td>0.000992</td>\n",
       "      <td>0.000992</td>\n",
       "      <td>0.000992</td>\n",
       "      <td>0.030806</td>\n",
       "      <td>0.132877</td>\n",
       "      <td>0.028697</td>\n",
       "      <td>0.000992</td>\n",
       "      <td>0.289541</td>\n",
       "      <td>0.000992</td>\n",
       "      <td>0.385720</td>\n",
       "      <td>0.002889</td>\n",
       "      <td>0.121530</td>\n",
       "    </tr>\n",
       "    <tr>\n",
       "      <th>29411583</th>\n",
       "      <td>0.000988</td>\n",
       "      <td>0.983023</td>\n",
       "      <td>0.000988</td>\n",
       "      <td>0.000988</td>\n",
       "      <td>0.003931</td>\n",
       "      <td>0.000988</td>\n",
       "      <td>0.000988</td>\n",
       "      <td>0.000988</td>\n",
       "      <td>0.000988</td>\n",
       "      <td>0.000988</td>\n",
       "      <td>0.000988</td>\n",
       "      <td>0.000988</td>\n",
       "      <td>0.000988</td>\n",
       "      <td>0.000988</td>\n",
       "      <td>0.001188</td>\n",
       "    </tr>\n",
       "    <tr>\n",
       "      <th>30981013</th>\n",
       "      <td>0.000994</td>\n",
       "      <td>0.000994</td>\n",
       "      <td>0.000994</td>\n",
       "      <td>0.000994</td>\n",
       "      <td>0.000994</td>\n",
       "      <td>0.494533</td>\n",
       "      <td>0.131305</td>\n",
       "      <td>0.019049</td>\n",
       "      <td>0.013196</td>\n",
       "      <td>0.001158</td>\n",
       "      <td>0.000994</td>\n",
       "      <td>0.000994</td>\n",
       "      <td>0.178630</td>\n",
       "      <td>0.043258</td>\n",
       "      <td>0.111918</td>\n",
       "    </tr>\n",
       "    <tr>\n",
       "      <th>105660752</th>\n",
       "      <td>0.026395</td>\n",
       "      <td>0.246992</td>\n",
       "      <td>0.000989</td>\n",
       "      <td>0.000989</td>\n",
       "      <td>0.707846</td>\n",
       "      <td>0.000989</td>\n",
       "      <td>0.000989</td>\n",
       "      <td>0.000989</td>\n",
       "      <td>0.000989</td>\n",
       "      <td>0.000989</td>\n",
       "      <td>0.000989</td>\n",
       "      <td>0.000989</td>\n",
       "      <td>0.000989</td>\n",
       "      <td>0.000989</td>\n",
       "      <td>0.007886</td>\n",
       "    </tr>\n",
       "    <tr>\n",
       "      <th>53637292</th>\n",
       "      <td>0.000995</td>\n",
       "      <td>0.000995</td>\n",
       "      <td>0.000995</td>\n",
       "      <td>0.000995</td>\n",
       "      <td>0.000995</td>\n",
       "      <td>0.002401</td>\n",
       "      <td>0.108982</td>\n",
       "      <td>0.038676</td>\n",
       "      <td>0.052858</td>\n",
       "      <td>0.069552</td>\n",
       "      <td>0.088419</td>\n",
       "      <td>0.003169</td>\n",
       "      <td>0.226239</td>\n",
       "      <td>0.245377</td>\n",
       "      <td>0.159353</td>\n",
       "    </tr>\n",
       "    <tr>\n",
       "      <th>25757559</th>\n",
       "      <td>0.000995</td>\n",
       "      <td>0.000995</td>\n",
       "      <td>0.000995</td>\n",
       "      <td>0.000995</td>\n",
       "      <td>0.000995</td>\n",
       "      <td>0.157070</td>\n",
       "      <td>0.114391</td>\n",
       "      <td>0.065055</td>\n",
       "      <td>0.082251</td>\n",
       "      <td>0.001863</td>\n",
       "      <td>0.058698</td>\n",
       "      <td>0.003448</td>\n",
       "      <td>0.295020</td>\n",
       "      <td>0.058992</td>\n",
       "      <td>0.158237</td>\n",
       "    </tr>\n",
       "    <tr>\n",
       "      <th>111939764</th>\n",
       "      <td>0.000993</td>\n",
       "      <td>0.000993</td>\n",
       "      <td>0.000993</td>\n",
       "      <td>0.000993</td>\n",
       "      <td>0.000993</td>\n",
       "      <td>0.003843</td>\n",
       "      <td>0.092264</td>\n",
       "      <td>0.271589</td>\n",
       "      <td>0.175727</td>\n",
       "      <td>0.000993</td>\n",
       "      <td>0.104465</td>\n",
       "      <td>0.000993</td>\n",
       "      <td>0.182389</td>\n",
       "      <td>0.002537</td>\n",
       "      <td>0.160235</td>\n",
       "    </tr>\n",
       "    <tr>\n",
       "      <th>115525330</th>\n",
       "      <td>0.000992</td>\n",
       "      <td>0.000992</td>\n",
       "      <td>0.000992</td>\n",
       "      <td>0.000992</td>\n",
       "      <td>0.000992</td>\n",
       "      <td>0.000992</td>\n",
       "      <td>0.200266</td>\n",
       "      <td>0.369977</td>\n",
       "      <td>0.044493</td>\n",
       "      <td>0.000992</td>\n",
       "      <td>0.169999</td>\n",
       "      <td>0.000992</td>\n",
       "      <td>0.065825</td>\n",
       "      <td>0.000992</td>\n",
       "      <td>0.140517</td>\n",
       "    </tr>\n",
       "    <tr>\n",
       "      <th>118225016</th>\n",
       "      <td>0.000992</td>\n",
       "      <td>0.000992</td>\n",
       "      <td>0.000992</td>\n",
       "      <td>0.000992</td>\n",
       "      <td>0.000992</td>\n",
       "      <td>0.000992</td>\n",
       "      <td>0.559613</td>\n",
       "      <td>0.112125</td>\n",
       "      <td>0.058520</td>\n",
       "      <td>0.000992</td>\n",
       "      <td>0.000992</td>\n",
       "      <td>0.000992</td>\n",
       "      <td>0.062149</td>\n",
       "      <td>0.100648</td>\n",
       "      <td>0.098020</td>\n",
       "    </tr>\n",
       "    <tr>\n",
       "      <th>63892184</th>\n",
       "      <td>0.000993</td>\n",
       "      <td>0.000993</td>\n",
       "      <td>0.000993</td>\n",
       "      <td>0.000993</td>\n",
       "      <td>0.000993</td>\n",
       "      <td>0.001838</td>\n",
       "      <td>0.590183</td>\n",
       "      <td>0.112727</td>\n",
       "      <td>0.015251</td>\n",
       "      <td>0.000993</td>\n",
       "      <td>0.001112</td>\n",
       "      <td>0.000993</td>\n",
       "      <td>0.129350</td>\n",
       "      <td>0.051241</td>\n",
       "      <td>0.091346</td>\n",
       "    </tr>\n",
       "    <tr>\n",
       "      <th>78304196</th>\n",
       "      <td>0.000986</td>\n",
       "      <td>0.986193</td>\n",
       "      <td>0.000986</td>\n",
       "      <td>0.000986</td>\n",
       "      <td>0.000986</td>\n",
       "      <td>0.000986</td>\n",
       "      <td>0.000986</td>\n",
       "      <td>0.000986</td>\n",
       "      <td>0.000986</td>\n",
       "      <td>0.000986</td>\n",
       "      <td>0.000986</td>\n",
       "      <td>0.000986</td>\n",
       "      <td>0.000986</td>\n",
       "      <td>0.000986</td>\n",
       "      <td>0.000986</td>\n",
       "    </tr>\n",
       "  </tbody>\n",
       "</table>\n",
       "</div>"
      ],
      "text/plain": [
       "            class_6  class_16  class_53  class_65  class_92  class_15  \\\n",
       "object_id                                                               \n",
       "109520686  0.000995  0.000995  0.000995  0.000995  0.000995  0.010690   \n",
       "55702866   0.000995  0.000995  0.000995  0.000995  0.000995  0.042260   \n",
       "53038648   0.000987  0.000987  0.000987  0.986184  0.000987  0.000987   \n",
       "23585850   0.000993  0.000993  0.000993  0.000993  0.000993  0.000993   \n",
       "11777945   0.000986  0.000986  0.000986  0.000986  0.000986  0.000986   \n",
       "95713015   0.000995  0.000995  0.000995  0.000995  0.000995  0.002294   \n",
       "57145312   0.000991  0.000991  0.000991  0.000991  0.000991  0.000991   \n",
       "60069315   0.000993  0.000993  0.000993  0.000993  0.000993  0.002000   \n",
       "76824687   0.000995  0.000995  0.000995  0.000995  0.000995  0.095596   \n",
       "30422615   0.000992  0.000992  0.000992  0.000992  0.000992  0.000992   \n",
       "29411583   0.000988  0.983023  0.000988  0.000988  0.003931  0.000988   \n",
       "30981013   0.000994  0.000994  0.000994  0.000994  0.000994  0.494533   \n",
       "105660752  0.026395  0.246992  0.000989  0.000989  0.707846  0.000989   \n",
       "53637292   0.000995  0.000995  0.000995  0.000995  0.000995  0.002401   \n",
       "25757559   0.000995  0.000995  0.000995  0.000995  0.000995  0.157070   \n",
       "111939764  0.000993  0.000993  0.000993  0.000993  0.000993  0.003843   \n",
       "115525330  0.000992  0.000992  0.000992  0.000992  0.000992  0.000992   \n",
       "118225016  0.000992  0.000992  0.000992  0.000992  0.000992  0.000992   \n",
       "63892184   0.000993  0.000993  0.000993  0.000993  0.000993  0.001838   \n",
       "78304196   0.000986  0.986193  0.000986  0.000986  0.000986  0.000986   \n",
       "\n",
       "           class_42  class_52  class_62  class_64  class_67  class_88  \\\n",
       "object_id                                                               \n",
       "109520686  0.063377  0.036011  0.039045  0.446707  0.031390  0.005622   \n",
       "55702866   0.111293  0.097353  0.035189  0.002561  0.044560  0.066120   \n",
       "53038648   0.000987  0.000987  0.000987  0.000987  0.000987  0.000987   \n",
       "23585850   0.068968  0.100385  0.039087  0.001178  0.251664  0.000993   \n",
       "11777945   0.000986  0.000986  0.000986  0.000986  0.000986  0.986192   \n",
       "95713015   0.065494  0.383860  0.016053  0.001033  0.069672  0.005551   \n",
       "57145312   0.041130  0.217390  0.004067  0.000991  0.019808  0.000991   \n",
       "60069315   0.146458  0.238371  0.062922  0.085212  0.054870  0.000993   \n",
       "76824687   0.193323  0.071866  0.273471  0.016363  0.034557  0.008123   \n",
       "30422615   0.030806  0.132877  0.028697  0.000992  0.289541  0.000992   \n",
       "29411583   0.000988  0.000988  0.000988  0.000988  0.000988  0.000988   \n",
       "30981013   0.131305  0.019049  0.013196  0.001158  0.000994  0.000994   \n",
       "105660752  0.000989  0.000989  0.000989  0.000989  0.000989  0.000989   \n",
       "53637292   0.108982  0.038676  0.052858  0.069552  0.088419  0.003169   \n",
       "25757559   0.114391  0.065055  0.082251  0.001863  0.058698  0.003448   \n",
       "111939764  0.092264  0.271589  0.175727  0.000993  0.104465  0.000993   \n",
       "115525330  0.200266  0.369977  0.044493  0.000992  0.169999  0.000992   \n",
       "118225016  0.559613  0.112125  0.058520  0.000992  0.000992  0.000992   \n",
       "63892184   0.590183  0.112727  0.015251  0.000993  0.001112  0.000993   \n",
       "78304196   0.000986  0.000986  0.000986  0.000986  0.000986  0.000986   \n",
       "\n",
       "           class_90  class_95  class_99  \n",
       "object_id                                \n",
       "109520686  0.149934  0.100207  0.112041  \n",
       "55702866   0.441043  0.029620  0.125025  \n",
       "53038648   0.000987  0.000987  0.000987  \n",
       "23585850   0.324840  0.062621  0.144304  \n",
       "11777945   0.000986  0.000986  0.000986  \n",
       "95713015   0.317211  0.001374  0.132483  \n",
       "57145312   0.625958  0.000991  0.082724  \n",
       "60069315   0.248597  0.000993  0.154616  \n",
       "76824687   0.067405  0.071993  0.162327  \n",
       "30422615   0.385720  0.002889  0.121530  \n",
       "29411583   0.000988  0.000988  0.001188  \n",
       "30981013   0.178630  0.043258  0.111918  \n",
       "105660752  0.000989  0.000989  0.007886  \n",
       "53637292   0.226239  0.245377  0.159353  \n",
       "25757559   0.295020  0.058992  0.158237  \n",
       "111939764  0.182389  0.002537  0.160235  \n",
       "115525330  0.065825  0.000992  0.140517  \n",
       "118225016  0.062149  0.100648  0.098020  \n",
       "63892184   0.129350  0.051241  0.091346  \n",
       "78304196   0.000986  0.000986  0.000986  "
      ]
     },
     "execution_count": 41,
     "metadata": {},
     "output_type": "execute_result"
    }
   ],
   "source": [
    "df_rest=(df_res[0]+df_res[1]+df_res[2]+df_res[3])/4\n",
    "\n",
    "df_rest.head()\n",
    "\n",
    "df_rest=df_rest.clip(1e-3,1)\n",
    "\n",
    "df_rest=df_rest.div(df_rest.sum(axis=1), axis=0)\n",
    "\n",
    "df_rest.sample(20)"
   ]
  },
  {
   "cell_type": "code",
   "execution_count": 42,
   "metadata": {},
   "outputs": [],
   "source": [
    "df_rest.to_csv('{}res1/submit81.csv'.format(External_Dir),float_format='%.4f')"
   ]
  },
  {
   "cell_type": "code",
   "execution_count": null,
   "metadata": {},
   "outputs": [],
   "source": []
  }
 ],
 "metadata": {
  "kernelspec": {
   "display_name": "Python 3",
   "language": "python",
   "name": "python3"
  },
  "language_info": {
   "codemirror_mode": {
    "name": "ipython",
    "version": 3
   },
   "file_extension": ".py",
   "mimetype": "text/x-python",
   "name": "python",
   "nbconvert_exporter": "python",
   "pygments_lexer": "ipython3",
   "version": "3.6.6"
  }
 },
 "nbformat": 4,
 "nbformat_minor": 2
}
